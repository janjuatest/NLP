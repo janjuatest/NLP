{
  "nbformat": 4,
  "nbformat_minor": 0,
  "metadata": {
    "colab": {
      "name": "NLP.ipynb",
      "provenance": [],
      "collapsed_sections": [],
      "authorship_tag": "ABX9TyMM+qGkSz8p1lDBkAMUFXFQ",
      "include_colab_link": true
    },
    "kernelspec": {
      "name": "python3",
      "display_name": "Python 3"
    }
  },
  "cells": [
    {
      "cell_type": "markdown",
      "metadata": {
        "id": "view-in-github",
        "colab_type": "text"
      },
      "source": [
        "<a href=\"https://colab.research.google.com/github/janjuatest/NLP/blob/main/NLP.ipynb\" target=\"_parent\"><img src=\"https://colab.research.google.com/assets/colab-badge.svg\" alt=\"Open In Colab\"/></a>"
      ]
    },
    {
      "cell_type": "code",
      "metadata": {
        "id": "KMCRr7yqMLMd"
      },
      "source": [
        "import pandas as pd\r\n",
        "import seaborn as sns\r\n",
        "import nltk\r\n",
        "import string"
      ],
      "execution_count": 13,
      "outputs": []
    },
    {
      "cell_type": "code",
      "metadata": {
        "colab": {
          "base_uri": "https://localhost:8080/"
        },
        "id": "Yc04tBLlNEU_",
        "outputId": "efba0ecf-e062-4b54-b409-099255ed45b7"
      },
      "source": [
        "nltk.download_shell()"
      ],
      "execution_count": 4,
      "outputs": [
        {
          "output_type": "stream",
          "text": [
            "NLTK Downloader\n",
            "---------------------------------------------------------------------------\n",
            "    d) Download   l) List    u) Update   c) Config   h) Help   q) Quit\n",
            "---------------------------------------------------------------------------\n",
            "Downloader> d\n",
            "\n",
            "Download which package (l=list; x=cancel)?\n",
            "  Identifier> stopwords\n",
            "    Downloading package stopwords to /root/nltk_data...\n",
            "      Unzipping corpora/stopwords.zip.\n",
            "\n",
            "---------------------------------------------------------------------------\n",
            "    d) Download   l) List    u) Update   c) Config   h) Help   q) Quit\n",
            "---------------------------------------------------------------------------\n",
            "Downloader> q\n"
          ],
          "name": "stdout"
        }
      ]
    },
    {
      "cell_type": "markdown",
      "metadata": {
        "id": "uL9hU5vkNcPo"
      },
      "source": [
        "Import the list of stopwords from NLTK"
      ]
    },
    {
      "cell_type": "code",
      "metadata": {
        "id": "Kfgv0sBMPopx"
      },
      "source": [
        "from nltk.corpus import stopwords"
      ],
      "execution_count": 14,
      "outputs": []
    },
    {
      "cell_type": "code",
      "metadata": {
        "id": "8sEdBu8UNRQ0"
      },
      "source": [
        "df=pd.read_csv('SMSSpamCollection',sep='\\t')"
      ],
      "execution_count": 6,
      "outputs": []
    },
    {
      "cell_type": "code",
      "metadata": {
        "id": "sYrUVeStN1S7"
      },
      "source": [
        "df.columns=['Label','Message']"
      ],
      "execution_count": 8,
      "outputs": []
    },
    {
      "cell_type": "markdown",
      "metadata": {
        "id": "hD_E8d9kOEfR"
      },
      "source": [
        "Read the messages into a data frame with columns Label and Message"
      ]
    },
    {
      "cell_type": "code",
      "metadata": {
        "colab": {
          "base_uri": "https://localhost:8080/",
          "height": 419
        },
        "id": "JfoBcidNN7e6",
        "outputId": "9b9b32de-791b-4502-bd55-03e99d89dc12"
      },
      "source": [
        "df"
      ],
      "execution_count": 9,
      "outputs": [
        {
          "output_type": "execute_result",
          "data": {
            "text/html": [
              "<div>\n",
              "<style scoped>\n",
              "    .dataframe tbody tr th:only-of-type {\n",
              "        vertical-align: middle;\n",
              "    }\n",
              "\n",
              "    .dataframe tbody tr th {\n",
              "        vertical-align: top;\n",
              "    }\n",
              "\n",
              "    .dataframe thead th {\n",
              "        text-align: right;\n",
              "    }\n",
              "</style>\n",
              "<table border=\"1\" class=\"dataframe\">\n",
              "  <thead>\n",
              "    <tr style=\"text-align: right;\">\n",
              "      <th></th>\n",
              "      <th>Label</th>\n",
              "      <th>Message</th>\n",
              "    </tr>\n",
              "  </thead>\n",
              "  <tbody>\n",
              "    <tr>\n",
              "      <th>0</th>\n",
              "      <td>ham</td>\n",
              "      <td>Ok lar... Joking wif u oni...</td>\n",
              "    </tr>\n",
              "    <tr>\n",
              "      <th>1</th>\n",
              "      <td>spam</td>\n",
              "      <td>Free entry in 2 a wkly comp to win FA Cup fina...</td>\n",
              "    </tr>\n",
              "    <tr>\n",
              "      <th>2</th>\n",
              "      <td>ham</td>\n",
              "      <td>U dun say so early hor... U c already then say...</td>\n",
              "    </tr>\n",
              "    <tr>\n",
              "      <th>3</th>\n",
              "      <td>ham</td>\n",
              "      <td>Nah I don't think he goes to usf, he lives aro...</td>\n",
              "    </tr>\n",
              "    <tr>\n",
              "      <th>4</th>\n",
              "      <td>spam</td>\n",
              "      <td>FreeMsg Hey there darling it's been 3 week's n...</td>\n",
              "    </tr>\n",
              "    <tr>\n",
              "      <th>...</th>\n",
              "      <td>...</td>\n",
              "      <td>...</td>\n",
              "    </tr>\n",
              "    <tr>\n",
              "      <th>5566</th>\n",
              "      <td>spam</td>\n",
              "      <td>This is the 2nd time we have tried 2 contact u...</td>\n",
              "    </tr>\n",
              "    <tr>\n",
              "      <th>5567</th>\n",
              "      <td>ham</td>\n",
              "      <td>Will ü b going to esplanade fr home?</td>\n",
              "    </tr>\n",
              "    <tr>\n",
              "      <th>5568</th>\n",
              "      <td>ham</td>\n",
              "      <td>Pity, * was in mood for that. So...any other s...</td>\n",
              "    </tr>\n",
              "    <tr>\n",
              "      <th>5569</th>\n",
              "      <td>ham</td>\n",
              "      <td>The guy did some bitching but I acted like i'd...</td>\n",
              "    </tr>\n",
              "    <tr>\n",
              "      <th>5570</th>\n",
              "      <td>ham</td>\n",
              "      <td>Rofl. Its true to its name</td>\n",
              "    </tr>\n",
              "  </tbody>\n",
              "</table>\n",
              "<p>5571 rows × 2 columns</p>\n",
              "</div>"
            ],
            "text/plain": [
              "     Label                                            Message\n",
              "0      ham                      Ok lar... Joking wif u oni...\n",
              "1     spam  Free entry in 2 a wkly comp to win FA Cup fina...\n",
              "2      ham  U dun say so early hor... U c already then say...\n",
              "3      ham  Nah I don't think he goes to usf, he lives aro...\n",
              "4     spam  FreeMsg Hey there darling it's been 3 week's n...\n",
              "...    ...                                                ...\n",
              "5566  spam  This is the 2nd time we have tried 2 contact u...\n",
              "5567   ham               Will ü b going to esplanade fr home?\n",
              "5568   ham  Pity, * was in mood for that. So...any other s...\n",
              "5569   ham  The guy did some bitching but I acted like i'd...\n",
              "5570   ham                         Rofl. Its true to its name\n",
              "\n",
              "[5571 rows x 2 columns]"
            ]
          },
          "metadata": {
            "tags": []
          },
          "execution_count": 9
        }
      ]
    },
    {
      "cell_type": "code",
      "metadata": {
        "id": "bGqilfZfOCKw"
      },
      "source": [
        "df['LengthSMS']=df['Message'].apply(len)"
      ],
      "execution_count": 10,
      "outputs": []
    },
    {
      "cell_type": "code",
      "metadata": {
        "colab": {
          "base_uri": "https://localhost:8080/",
          "height": 419
        },
        "id": "1ngPHlEVORNR",
        "outputId": "c0200476-883c-44f1-c33b-ae44d59016ef"
      },
      "source": [
        "df"
      ],
      "execution_count": 11,
      "outputs": [
        {
          "output_type": "execute_result",
          "data": {
            "text/html": [
              "<div>\n",
              "<style scoped>\n",
              "    .dataframe tbody tr th:only-of-type {\n",
              "        vertical-align: middle;\n",
              "    }\n",
              "\n",
              "    .dataframe tbody tr th {\n",
              "        vertical-align: top;\n",
              "    }\n",
              "\n",
              "    .dataframe thead th {\n",
              "        text-align: right;\n",
              "    }\n",
              "</style>\n",
              "<table border=\"1\" class=\"dataframe\">\n",
              "  <thead>\n",
              "    <tr style=\"text-align: right;\">\n",
              "      <th></th>\n",
              "      <th>Label</th>\n",
              "      <th>Message</th>\n",
              "      <th>LengthSMS</th>\n",
              "    </tr>\n",
              "  </thead>\n",
              "  <tbody>\n",
              "    <tr>\n",
              "      <th>0</th>\n",
              "      <td>ham</td>\n",
              "      <td>Ok lar... Joking wif u oni...</td>\n",
              "      <td>29</td>\n",
              "    </tr>\n",
              "    <tr>\n",
              "      <th>1</th>\n",
              "      <td>spam</td>\n",
              "      <td>Free entry in 2 a wkly comp to win FA Cup fina...</td>\n",
              "      <td>155</td>\n",
              "    </tr>\n",
              "    <tr>\n",
              "      <th>2</th>\n",
              "      <td>ham</td>\n",
              "      <td>U dun say so early hor... U c already then say...</td>\n",
              "      <td>49</td>\n",
              "    </tr>\n",
              "    <tr>\n",
              "      <th>3</th>\n",
              "      <td>ham</td>\n",
              "      <td>Nah I don't think he goes to usf, he lives aro...</td>\n",
              "      <td>61</td>\n",
              "    </tr>\n",
              "    <tr>\n",
              "      <th>4</th>\n",
              "      <td>spam</td>\n",
              "      <td>FreeMsg Hey there darling it's been 3 week's n...</td>\n",
              "      <td>147</td>\n",
              "    </tr>\n",
              "    <tr>\n",
              "      <th>...</th>\n",
              "      <td>...</td>\n",
              "      <td>...</td>\n",
              "      <td>...</td>\n",
              "    </tr>\n",
              "    <tr>\n",
              "      <th>5566</th>\n",
              "      <td>spam</td>\n",
              "      <td>This is the 2nd time we have tried 2 contact u...</td>\n",
              "      <td>160</td>\n",
              "    </tr>\n",
              "    <tr>\n",
              "      <th>5567</th>\n",
              "      <td>ham</td>\n",
              "      <td>Will ü b going to esplanade fr home?</td>\n",
              "      <td>36</td>\n",
              "    </tr>\n",
              "    <tr>\n",
              "      <th>5568</th>\n",
              "      <td>ham</td>\n",
              "      <td>Pity, * was in mood for that. So...any other s...</td>\n",
              "      <td>57</td>\n",
              "    </tr>\n",
              "    <tr>\n",
              "      <th>5569</th>\n",
              "      <td>ham</td>\n",
              "      <td>The guy did some bitching but I acted like i'd...</td>\n",
              "      <td>125</td>\n",
              "    </tr>\n",
              "    <tr>\n",
              "      <th>5570</th>\n",
              "      <td>ham</td>\n",
              "      <td>Rofl. Its true to its name</td>\n",
              "      <td>26</td>\n",
              "    </tr>\n",
              "  </tbody>\n",
              "</table>\n",
              "<p>5571 rows × 3 columns</p>\n",
              "</div>"
            ],
            "text/plain": [
              "     Label                                            Message  LengthSMS\n",
              "0      ham                      Ok lar... Joking wif u oni...         29\n",
              "1     spam  Free entry in 2 a wkly comp to win FA Cup fina...        155\n",
              "2      ham  U dun say so early hor... U c already then say...         49\n",
              "3      ham  Nah I don't think he goes to usf, he lives aro...         61\n",
              "4     spam  FreeMsg Hey there darling it's been 3 week's n...        147\n",
              "...    ...                                                ...        ...\n",
              "5566  spam  This is the 2nd time we have tried 2 contact u...        160\n",
              "5567   ham               Will ü b going to esplanade fr home?         36\n",
              "5568   ham  Pity, * was in mood for that. So...any other s...         57\n",
              "5569   ham  The guy did some bitching but I acted like i'd...        125\n",
              "5570   ham                         Rofl. Its true to its name         26\n",
              "\n",
              "[5571 rows x 3 columns]"
            ]
          },
          "metadata": {
            "tags": []
          },
          "execution_count": 11
        }
      ]
    },
    {
      "cell_type": "code",
      "metadata": {
        "colab": {
          "base_uri": "https://localhost:8080/",
          "height": 352
        },
        "id": "jjgy9KNeVNFu",
        "outputId": "5741c1c1-8f31-4911-87af-39dbc525703d"
      },
      "source": [
        "sns.countplot(df['Label'])"
      ],
      "execution_count": 50,
      "outputs": [
        {
          "output_type": "stream",
          "text": [
            "/usr/local/lib/python3.6/dist-packages/seaborn/_decorators.py:43: FutureWarning: Pass the following variable as a keyword arg: x. From version 0.12, the only valid positional argument will be `data`, and passing other arguments without an explicit keyword will result in an error or misinterpretation.\n",
            "  FutureWarning\n"
          ],
          "name": "stderr"
        },
        {
          "output_type": "execute_result",
          "data": {
            "text/plain": [
              "<matplotlib.axes._subplots.AxesSubplot at 0x7fe88a334400>"
            ]
          },
          "metadata": {
            "tags": []
          },
          "execution_count": 50
        },
        {
          "output_type": "display_data",
          "data": {
            "image/png": "[encoded data removed]",
            "text/plain": [
              "<Figure size 432x288 with 1 Axes>"
            ]
          },
          "metadata": {
            "tags": [],
            "needs_background": "light"
          }
        }
      ]
    },
    {
      "cell_type": "markdown",
      "metadata": {
        "id": "j_VdjfBkVRhI"
      },
      "source": [
        "The data is unbalanced so learning might not be very good\r\n",
        "There will be more false positives are more likely"
      ]
    },
    {
      "cell_type": "code",
      "metadata": {
        "colab": {
          "base_uri": "https://localhost:8080/"
        },
        "id": "CXILfb0RVnF4",
        "outputId": "d094ea7a-d4c7-4e5b-e0eb-7913c9abb330"
      },
      "source": [
        "df.info()"
      ],
      "execution_count": 51,
      "outputs": [
        {
          "output_type": "stream",
          "text": [
            "<class 'pandas.core.frame.DataFrame'>\n",
            "RangeIndex: 5571 entries, 0 to 5570\n",
            "Data columns (total 3 columns):\n",
            " #   Column     Non-Null Count  Dtype \n",
            "---  ------     --------------  ----- \n",
            " 0   Label      5571 non-null   object\n",
            " 1   Message    5571 non-null   object\n",
            " 2   LengthSMS  5571 non-null   int64 \n",
            "dtypes: int64(1), object(2)\n",
            "memory usage: 130.7+ KB\n"
          ],
          "name": "stdout"
        }
      ]
    },
    {
      "cell_type": "markdown",
      "metadata": {
        "id": "GfNZMoTiVptF"
      },
      "source": [
        "There are a total of 5571 messages"
      ]
    },
    {
      "cell_type": "code",
      "metadata": {
        "colab": {
          "base_uri": "https://localhost:8080/",
          "height": 296
        },
        "id": "zP9bk3yjOSD4",
        "outputId": "59263e83-342b-42e9-d127-d89824949c92"
      },
      "source": [
        "sns.violinplot(data=df,x='Label',y='LengthSMS')"
      ],
      "execution_count": 12,
      "outputs": [
        {
          "output_type": "execute_result",
          "data": {
            "text/plain": [
              "<matplotlib.axes._subplots.AxesSubplot at 0x7fe88b9a1ba8>"
            ]
          },
          "metadata": {
            "tags": []
          },
          "execution_count": 12
        },
        {
          "output_type": "display_data",
          "data": {
            "image/png": "[encoded data removed]",
            "text/plain": [
              "<Figure size 432x288 with 1 Axes>"
            ]
          },
          "metadata": {
            "tags": [],
            "needs_background": "light"
          }
        }
      ]
    },
    {
      "cell_type": "markdown",
      "metadata": {
        "id": "AE-oOQDVOcPK"
      },
      "source": [
        "As can be seen above the spam messages are longer and have lower spread in number of characters"
      ]
    },
    {
      "cell_type": "markdown",
      "metadata": {
        "id": "lUP_PjRSOs6Z"
      },
      "source": [
        "Now lets create a function to process the messages\r\n",
        "1. Remove punctuations\r\n",
        "2. Remove Stopword i.e. common words\r\n",
        "3. Create an array of keywords for each message\r\n"
      ]
    },
    {
      "cell_type": "code",
      "metadata": {
        "id": "IHhcnP7WOa_A"
      },
      "source": [
        "def TextProcess(stringGiven):\r\n",
        "  nopunc=[char for char in stringGiven if char not in string.punctuation]\r\n",
        "  messageNP=''.join(nopunc)\r\n",
        "  keywords=[word for word in messageNP.split() if word not in stopwords.words('english')]\r\n",
        "  return keywords\r\n"
      ],
      "execution_count": 23,
      "outputs": []
    },
    {
      "cell_type": "code",
      "metadata": {
        "colab": {
          "base_uri": "https://localhost:8080/"
        },
        "id": "h0J9fJMQPrPs",
        "outputId": "ffb9c3e9-f8e8-4e8f-80e3-ab782bd8175c"
      },
      "source": [
        "TextProcess(\"I will be coming ...home\")"
      ],
      "execution_count": 25,
      "outputs": [
        {
          "output_type": "execute_result",
          "data": {
            "text/plain": [
              "['I', 'coming', 'home']"
            ]
          },
          "metadata": {
            "tags": []
          },
          "execution_count": 25
        }
      ]
    },
    {
      "cell_type": "markdown",
      "metadata": {
        "id": "_GQKx1QTQiR3"
      },
      "source": [
        "Beautiful our function works as follows\r\n",
        "1. It removes the punctuation\r\n",
        "2. Then combines the characters back into words and makes a string\r\n",
        "3. Then splits the string into words and remove the common stop words like will , be etc."
      ]
    },
    {
      "cell_type": "code",
      "metadata": {
        "colab": {
          "base_uri": "https://localhost:8080/"
        },
        "id": "nJcyWYS0Pv2O",
        "outputId": "ad5a3698-6024-4da6-8209-411d35621cab"
      },
      "source": [
        "TextProcess(df['Message'][10])"
      ],
      "execution_count": 26,
      "outputs": [
        {
          "output_type": "execute_result",
          "data": {
            "text/plain": [
              "['SIX',\n",
              " 'chances',\n",
              " 'win',\n",
              " 'CASH',\n",
              " 'From',\n",
              " '100',\n",
              " '20000',\n",
              " 'pounds',\n",
              " 'txt',\n",
              " 'CSH11',\n",
              " 'send',\n",
              " '87575',\n",
              " 'Cost',\n",
              " '150pday',\n",
              " '6days',\n",
              " '16',\n",
              " 'TsandCs',\n",
              " 'apply',\n",
              " 'Reply',\n",
              " 'HL',\n",
              " '4',\n",
              " 'info']"
            ]
          },
          "metadata": {
            "tags": []
          },
          "execution_count": 26
        }
      ]
    },
    {
      "cell_type": "code",
      "metadata": {
        "id": "DQszM1mbRAQo"
      },
      "source": [
        "from sklearn.feature_extraction.text import CountVectorizer"
      ],
      "execution_count": 27,
      "outputs": []
    },
    {
      "cell_type": "markdown",
      "metadata": {
        "id": "rAHcpzWxRId6"
      },
      "source": [
        "Now lets beging the NLP by first making our bag of words and vectorizing the messages"
      ]
    },
    {
      "cell_type": "code",
      "metadata": {
        "id": "w2GHXRJgRIAX"
      },
      "source": [
        "myBag=CountVectorizer(analyzer=TextProcess)"
      ],
      "execution_count": 30,
      "outputs": []
    },
    {
      "cell_type": "code",
      "metadata": {
        "colab": {
          "base_uri": "https://localhost:8080/"
        },
        "id": "C7xECBsdRWAb",
        "outputId": "e27dbf45-d582-444f-c57d-54730221b7d9"
      },
      "source": [
        "myBag.fit(df['Message'])"
      ],
      "execution_count": 31,
      "outputs": [
        {
          "output_type": "execute_result",
          "data": {
            "text/plain": [
              "CountVectorizer(analyzer=<function TextProcess at 0x7fe88a4e6bf8>, binary=False,\n",
              "                decode_error='strict', dtype=<class 'numpy.int64'>,\n",
              "                encoding='utf-8', input='content', lowercase=True, max_df=1.0,\n",
              "                max_features=None, min_df=1, ngram_range=(1, 1),\n",
              "                preprocessor=None, stop_words=None, strip_accents=None,\n",
              "                token_pattern='(?u)\\\\b\\\\w\\\\w+\\\\b', tokenizer=None,\n",
              "                vocabulary=None)"
            ]
          },
          "metadata": {
            "tags": []
          },
          "execution_count": 31
        }
      ]
    },
    {
      "cell_type": "markdown",
      "metadata": {
        "id": "W8w-8IAFRuau"
      },
      "source": [
        "The vectorizer has been fitted"
      ]
    },
    {
      "cell_type": "code",
      "metadata": {
        "colab": {
          "base_uri": "https://localhost:8080/"
        },
        "id": "9Z45pCn8RiLe",
        "outputId": "2c4dc60a-98b1-465a-f100-370736545afd"
      },
      "source": [
        "myBag.vocabulary_"
      ],
      "execution_count": 32,
      "outputs": [
        {
          "output_type": "execute_result",
          "data": {
            "text/plain": [
              "{'Ok': 3176,\n",
              " 'lar': 7890,\n",
              " 'Joking': 2534,\n",
              " 'wif': 11261,\n",
              " 'u': 10887,\n",
              " 'oni': 8779,\n",
              " 'Free': 1992,\n",
              " 'entry': 6521,\n",
              " '2': 423,\n",
              " 'wkly': 11312,\n",
              " 'comp': 5809,\n",
              " 'win': 11273,\n",
              " 'FA': 1881,\n",
              " 'Cup': 1588,\n",
              " 'final': 6747,\n",
              " 'tkts': 10701,\n",
              " '21st': 443,\n",
              " 'May': 2895,\n",
              " '2005': 430,\n",
              " 'Text': 4094,\n",
              " '87121': 871,\n",
              " 'receive': 9441,\n",
              " 'questionstd': 9348,\n",
              " 'txt': 10875,\n",
              " 'rateTCs': 9389,\n",
              " 'apply': 4921,\n",
              " '08452810075over18s': 73,\n",
              " 'U': 4220,\n",
              " 'dun': 6394,\n",
              " 'say': 9743,\n",
              " 'early': 6412,\n",
              " 'hor': 7376,\n",
              " 'c': 5451,\n",
              " 'already': 4820,\n",
              " 'Nah': 3046,\n",
              " 'I': 2361,\n",
              " 'dont': 6313,\n",
              " 'think': 10622,\n",
              " 'goes': 7067,\n",
              " 'usf': 10988,\n",
              " 'lives': 8031,\n",
              " 'around': 4967,\n",
              " 'though': 10639,\n",
              " 'FreeMsg': 1994,\n",
              " 'Hey': 2289,\n",
              " 'darling': 6054,\n",
              " '3': 543,\n",
              " 'weeks': 11200,\n",
              " 'word': 11339,\n",
              " 'back': 5083,\n",
              " 'Id': 2423,\n",
              " 'like': 7989,\n",
              " 'fun': 6945,\n",
              " 'still': 10282,\n",
              " 'Tb': 4071,\n",
              " 'ok': 8756,\n",
              " 'XxX': 4563,\n",
              " 'std': 10262,\n",
              " 'chgs': 5657,\n",
              " 'send': 9830,\n",
              " '£150': 11560,\n",
              " 'rcv': 9398,\n",
              " 'Even': 1850,\n",
              " 'brother': 5383,\n",
              " 'speak': 10160,\n",
              " 'They': 4122,\n",
              " 'treat': 10818,\n",
              " 'aids': 4781,\n",
              " 'patent': 8950,\n",
              " 'As': 1115,\n",
              " 'per': 8985,\n",
              " 'request': 9545,\n",
              " 'Melle': 2906,\n",
              " 'Oru': 3214,\n",
              " 'Minnaminunginte': 2925,\n",
              " 'Nurungu': 3124,\n",
              " 'Vettam': 4328,\n",
              " 'set': 9853,\n",
              " 'callertune': 5482,\n",
              " 'Callers': 1458,\n",
              " 'Press': 3398,\n",
              " '9': 909,\n",
              " 'copy': 5906,\n",
              " 'friends': 6909,\n",
              " 'Callertune': 1459,\n",
              " 'WINNER': 4390,\n",
              " 'valued': 11017,\n",
              " 'network': 8595,\n",
              " 'customer': 6010,\n",
              " 'selected': 9817,\n",
              " 'receivea': 9442,\n",
              " '£900': 11601,\n",
              " 'prize': 9247,\n",
              " 'reward': 9602,\n",
              " 'To': 4160,\n",
              " 'claim': 5709,\n",
              " 'call': 5465,\n",
              " '09061701461': 219,\n",
              " 'Claim': 1522,\n",
              " 'code': 5764,\n",
              " 'KL341': 2561,\n",
              " 'Valid': 4318,\n",
              " '12': 326,\n",
              " 'hours': 7391,\n",
              " 'Had': 2231,\n",
              " 'mobile': 8405,\n",
              " '11': 315,\n",
              " 'months': 8440,\n",
              " 'R': 3441,\n",
              " 'entitled': 6518,\n",
              " 'Update': 4284,\n",
              " 'latest': 7905,\n",
              " 'colour': 5784,\n",
              " 'mobiles': 8406,\n",
              " 'camera': 5494,\n",
              " 'Call': 1454,\n",
              " 'The': 4108,\n",
              " 'Mobile': 2944,\n",
              " 'Co': 1529,\n",
              " 'FREE': 1914,\n",
              " '08002986030': 58,\n",
              " 'Im': 2430,\n",
              " 'gonna': 7080,\n",
              " 'home': 7349,\n",
              " 'soon': 10120,\n",
              " 'want': 11134,\n",
              " 'talk': 10492,\n",
              " 'stuff': 10342,\n",
              " 'anymore': 4891,\n",
              " 'tonight': 10746,\n",
              " 'k': 7750,\n",
              " 'Ive': 2476,\n",
              " 'cried': 5973,\n",
              " 'enough': 6509,\n",
              " 'today': 10713,\n",
              " 'SIX': 3620,\n",
              " 'chances': 5601,\n",
              " 'CASH': 1390,\n",
              " 'From': 2008,\n",
              " '100': 294,\n",
              " '20000': 427,\n",
              " 'pounds': 9164,\n",
              " 'CSH11': 1442,\n",
              " '87575': 875,\n",
              " 'Cost': 1561,\n",
              " '150pday': 364,\n",
              " '6days': 763,\n",
              " '16': 382,\n",
              " 'TsandCs': 4200,\n",
              " 'Reply': 3535,\n",
              " 'HL': 2198,\n",
              " '4': 605,\n",
              " 'info': 7544,\n",
              " 'URGENT': 4243,\n",
              " 'You': 4627,\n",
              " '1': 292,\n",
              " 'week': 11195,\n",
              " 'membership': 8299,\n",
              " '£100000': 11554,\n",
              " 'Prize': 3403,\n",
              " 'Jackpot': 2504,\n",
              " 'Txt': 4214,\n",
              " 'CLAIM': 1415,\n",
              " 'No': 3086,\n",
              " '81010': 821,\n",
              " 'TC': 3980,\n",
              " 'wwwdbuknet': 11420,\n",
              " 'LCCLTD': 2635,\n",
              " 'POBOX': 3258,\n",
              " '4403LDNW1A7RW18': 626,\n",
              " 'searching': 9786,\n",
              " 'right': 9611,\n",
              " 'words': 11343,\n",
              " 'thank': 10581,\n",
              " 'breather': 5356,\n",
              " 'promise': 9281,\n",
              " 'wont': 11334,\n",
              " 'take': 10484,\n",
              " 'help': 7279,\n",
              " 'granted': 7119,\n",
              " 'fulfil': 6941,\n",
              " 'wonderful': 11331,\n",
              " 'blessing': 5265,\n",
              " 'times': 10680,\n",
              " 'HAVE': 2174,\n",
              " 'A': 933,\n",
              " 'DATE': 1606,\n",
              " 'ON': 3145,\n",
              " 'SUNDAY': 3693,\n",
              " 'WITH': 4393,\n",
              " 'WILL': 4388,\n",
              " 'XXXMobileMovieClub': 4554,\n",
              " 'use': 10982,\n",
              " 'credit': 5964,\n",
              " 'click': 5730,\n",
              " 'WAP': 4358,\n",
              " 'link': 8007,\n",
              " 'next': 8609,\n",
              " 'message': 8322,\n",
              " 'httpwap': 7414,\n",
              " 'xxxmobilemovieclubcomnQJKGIGHJJGCBL': 11462,\n",
              " 'Oh': 3171,\n",
              " 'kim': 7807,\n",
              " 'watching': 11159,\n",
              " 'Eh': 1817,\n",
              " 'remember': 9508,\n",
              " 'spell': 10174,\n",
              " 'name': 8537,\n",
              " 'Yes': 4612,\n",
              " 'He': 2260,\n",
              " 'v': 11005,\n",
              " 'naughty': 8557,\n",
              " 'make': 8189,\n",
              " 'wet': 11229,\n",
              " 'Fine': 1964,\n",
              " 'that\\x92s': 10594,\n",
              " 'way': 11168,\n",
              " 'feel': 6707,\n",
              " 'That\\x92s': 4106,\n",
              " 'gota': 7097,\n",
              " 'b': 5070,\n",
              " 'England': 1832,\n",
              " 'Macedonia': 2863,\n",
              " 'miss': 8380,\n",
              " 'goalsteam': 7060,\n",
              " 'news': 8604,\n",
              " 'ur': 10966,\n",
              " 'national': 8551,\n",
              " 'team': 10527,\n",
              " '87077': 870,\n",
              " 'eg': 6448,\n",
              " 'ENGLAND': 1775,\n",
              " 'TryWALES': 4194,\n",
              " 'SCOTLAND': 3583,\n",
              " '4txtú120': 677,\n",
              " 'POBOXox36504W45WQ': 3261,\n",
              " 'Is': 2463,\n",
              " 'seriously': 9847,\n",
              " 'I‘m': 2483,\n",
              " 'going': 7072,\n",
              " 'try': 10844,\n",
              " 'ha': 7182,\n",
              " 'joking': 7724,\n",
              " 'So': 3850,\n",
              " 'ü': 11607,\n",
              " 'pay': 8958,\n",
              " 'first': 6774,\n",
              " 'Then': 4114,\n",
              " 'da': 6022,\n",
              " 'stock': 10286,\n",
              " 'comin': 5799,\n",
              " 'Aft': 1032,\n",
              " 'finish': 6760,\n",
              " 'lunch': 8136,\n",
              " 'go': 7054,\n",
              " 'str': 10306,\n",
              " 'lor': 8077,\n",
              " 'Ard': 1104,\n",
              " 'smth': 10070,\n",
              " 'Ffffffffff': 1955,\n",
              " 'Alright': 1069,\n",
              " 'meet': 8281,\n",
              " 'sooner': 10121,\n",
              " 'Just': 2550,\n",
              " 'forced': 6845,\n",
              " 'eat': 6424,\n",
              " 'slice': 10025,\n",
              " 'really': 9423,\n",
              " 'hungry': 7439,\n",
              " 'tho': 10635,\n",
              " 'This': 4131,\n",
              " 'sucks': 10375,\n",
              " 'Mark': 2885,\n",
              " 'getting': 7022,\n",
              " 'worried': 11358,\n",
              " 'knows': 7832,\n",
              " 'sick': 9953,\n",
              " 'turn': 10861,\n",
              " 'pizza': 9058,\n",
              " 'Lol': 2732,\n",
              " 'always': 4832,\n",
              " 'convincing': 5893,\n",
              " 'Did': 1705,\n",
              " 'catch': 5564,\n",
              " 'bus': 5427,\n",
              " 'Are': 1105,\n",
              " 'frying': 6931,\n",
              " 'egg': 6450,\n",
              " 'tea': 10521,\n",
              " 'eating': 6427,\n",
              " 'moms': 8424,\n",
              " 'left': 7937,\n",
              " 'dinner': 6235,\n",
              " 'Do': 1728,\n",
              " 'Love': 2745,\n",
              " 'amp': 4845,\n",
              " 'packing': 8882,\n",
              " 'car': 5521,\n",
              " 'Ill': 2428,\n",
              " 'let': 7958,\n",
              " 'know': 7828,\n",
              " 'theres': 10610,\n",
              " 'room': 9649,\n",
              " 'Ahhh': 1043,\n",
              " 'Work': 4529,\n",
              " 'vaguely': 11008,\n",
              " 'What': 4477,\n",
              " 'Wait': 4427,\n",
              " 'thats': 10593,\n",
              " 'clear': 5724,\n",
              " 'sure': 10426,\n",
              " 'sarcastic': 9725,\n",
              " 'x': 11449,\n",
              " 'doesnt': 6289,\n",
              " 'live': 8028,\n",
              " 'us': 10976,\n",
              " 'Yeah': 4603,\n",
              " 'got': 7096,\n",
              " 'apologetic': 4909,\n",
              " 'n': 8525,\n",
              " 'fallen': 6658,\n",
              " 'actin': 4700,\n",
              " 'spoilt': 10194,\n",
              " 'child': 5673,\n",
              " 'caught': 5568,\n",
              " 'Till': 4147,\n",
              " 'But': 1365,\n",
              " 'Not': 3112,\n",
              " 'badly': 5088,\n",
              " 'cheers': 5640,\n",
              " 'K': 2552,\n",
              " 'tell': 10543,\n",
              " 'anything': 4897,\n",
              " 'For': 1980,\n",
              " 'fear': 6699,\n",
              " 'fainting': 6649,\n",
              " 'housework': 7395,\n",
              " 'Quick': 3436,\n",
              " 'cuppa': 6000,\n",
              " 'Thanks': 4099,\n",
              " 'subscription': 10365,\n",
              " 'Ringtone': 3545,\n",
              " 'UK': 4226,\n",
              " 'charged': 5613,\n",
              " '£5month': 11593,\n",
              " 'Please': 3355,\n",
              " 'confirm': 5851,\n",
              " 'replying': 9540,\n",
              " 'YES': 4573,\n",
              " 'NO': 3021,\n",
              " 'If': 2427,\n",
              " 'reply': 9538,\n",
              " 'Yup': 4641,\n",
              " 'look': 8069,\n",
              " 'timings': 10686,\n",
              " 'msg': 8472,\n",
              " 'Xuhui': 4561,\n",
              " 'learn': 7926,\n",
              " '2nd': 526,\n",
              " 'may': 8254,\n",
              " 'lesson': 7956,\n",
              " '8am': 903,\n",
              " 'Oops': 3200,\n",
              " 'roommates': 9652,\n",
              " 'done': 6310,\n",
              " 'see': 9802,\n",
              " 'letter': 7960,\n",
              " 'B': 1143,\n",
              " 'Anything': 1090,\n",
              " 'decide': 6105,\n",
              " 'Hello': 2274,\n",
              " 'Hows': 2349,\n",
              " 'saturday': 9735,\n",
              " 'texting': 10572,\n",
              " 'youd': 11507,\n",
              " 'decided': 6106,\n",
              " 'tomo': 10735,\n",
              " 'im': 7497,\n",
              " 'trying': 10846,\n",
              " 'invite': 7600,\n",
              " 'Pls': 3357,\n",
              " 'ahead': 4773,\n",
              " 'watts': 11166,\n",
              " 'wanted': 11136,\n",
              " 'great': 7127,\n",
              " 'weekend': 11197,\n",
              " 'Abiola': 1011,\n",
              " 'forget': 6851,\n",
              " 'need': 8575,\n",
              " 'crave': 5956,\n",
              " 'love': 8102,\n",
              " 'sweet': 10450,\n",
              " 'Arabian': 1102,\n",
              " 'steed': 10268,\n",
              " 'Mmmmmm': 2938,\n",
              " 'Yummy': 4638,\n",
              " '07732584351': 29,\n",
              " 'Rodger': 3551,\n",
              " 'Burns': 1363,\n",
              " 'MSG': 2845,\n",
              " 'We': 4455,\n",
              " 'tried': 10827,\n",
              " 'sms': 10065,\n",
              " 'free': 6889,\n",
              " 'nokia': 8644,\n",
              " 'camcorder': 5492,\n",
              " '08000930705': 54,\n",
              " 'delivery': 6140,\n",
              " 'tomorrow': 10738,\n",
              " 'WHO': 4382,\n",
              " 'ARE': 983,\n",
              " 'YOU': 4586,\n",
              " 'SEEING': 3587,\n",
              " 'Great': 2140,\n",
              " 'hope': 7367,\n",
              " 'man': 8198,\n",
              " 'well': 11212,\n",
              " 'endowed': 6493,\n",
              " 'ltgt': 8128,\n",
              " 'inches': 7523,\n",
              " 'callsmessagesmissed': 5488,\n",
              " 'calls': 5487,\n",
              " 'Didnt': 1706,\n",
              " 'get': 7014,\n",
              " 'hep': 7288,\n",
              " 'immunisation': 7505,\n",
              " 'nigeria': 8616,\n",
              " 'Fair': 1943,\n",
              " 'hopefully': 7372,\n",
              " 'tyler': 10881,\n",
              " 'cant': 5510,\n",
              " 'could': 5928,\n",
              " 'maybe': 8256,\n",
              " 'ask': 4989,\n",
              " 'bit': 5243,\n",
              " 'stubborn': 10332,\n",
              " 'didnt': 6204,\n",
              " 'even': 6559,\n",
              " 'hospital': 7382,\n",
              " 'kept': 7783,\n",
              " 'telling': 10544,\n",
              " 'weak': 11172,\n",
              " 'sucker': 10373,\n",
              " 'Hospitals': 2340,\n",
              " 'suckers': 10374,\n",
              " 'thinked': 10624,\n",
              " 'First': 1968,\n",
              " 'time': 10676,\n",
              " 'saw': 9742,\n",
              " 'class': 5717,\n",
              " 'gram': 7113,\n",
              " 'usually': 10994,\n",
              " 'runs': 9684,\n",
              " 'half': 7194,\n",
              " 'eighth': 6457,\n",
              " 'smarter': 10047,\n",
              " 'gets': 7018,\n",
              " 'almost': 4816,\n",
              " 'whole': 11252,\n",
              " 'second': 9790,\n",
              " 'fyi': 6958,\n",
              " 'ride': 9610,\n",
              " 'morning': 8445,\n",
              " 'hes': 7299,\n",
              " 'crashing': 5955,\n",
              " 'place': 9059,\n",
              " 'Wow': 4536,\n",
              " 'never': 8599,\n",
              " 'realized': 9421,\n",
              " 'embarassed': 6477,\n",
              " 'accomodations': 4683,\n",
              " 'thought': 10640,\n",
              " 'liked': 7990,\n",
              " 'since': 9977,\n",
              " 'best': 5204,\n",
              " 'seemed': 9808,\n",
              " 'happy': 7225,\n",
              " 'cave': 5572,\n",
              " 'sorry': 10130,\n",
              " 'give': 7040,\n",
              " 'offered': 8736,\n",
              " 'embarassing': 6478,\n",
              " 'SMS': 3631,\n",
              " 'ac': 4669,\n",
              " 'Sptv': 3893,\n",
              " 'New': 3066,\n",
              " 'Jersey': 2524,\n",
              " 'Devils': 1699,\n",
              " 'Detroit': 1698,\n",
              " 'Red': 3515,\n",
              " 'Wings': 4504,\n",
              " 'play': 9073,\n",
              " 'Ice': 2421,\n",
              " 'Hockey': 2318,\n",
              " 'Correct': 1559,\n",
              " 'Incorrect': 2439,\n",
              " 'End': 1830,\n",
              " 'END': 1773,\n",
              " 'SPTV': 3664,\n",
              " 'Mallika': 2875,\n",
              " 'Sherawat': 3781,\n",
              " 'yesterday': 11488,\n",
              " 'Find': 1963,\n",
              " 'ltURLgt': 8127,\n",
              " 'Congrats': 1550,\n",
              " 'year': 11479,\n",
              " 'special': 10162,\n",
              " 'cinema': 5705,\n",
              " 'pass': 8939,\n",
              " '09061209465': 214,\n",
              " 'C': 1373,\n",
              " 'Suprman': 3953,\n",
              " 'V': 4301,\n",
              " 'Matrix3': 2892,\n",
              " 'StarWars3': 3902,\n",
              " 'etc': 6549,\n",
              " 'bx420ip45we': 5446,\n",
              " '150pm': 365,\n",
              " 'Dont': 1741,\n",
              " 'Sorry': 3866,\n",
              " 'later': 7903,\n",
              " 'meeting': 8283,\n",
              " 'Tell': 4083,\n",
              " 'reached': 9405,\n",
              " 'Yesgauti': 4615,\n",
              " 'sehwag': 9814,\n",
              " 'odi': 8730,\n",
              " 'series': 9845,\n",
              " 'Your': 4631,\n",
              " 'pick': 9033,\n",
              " 'burger': 5419,\n",
              " 'move': 8459,\n",
              " 'Pain': 3300,\n",
              " 'killing': 7804,\n",
              " 'Ha': 2228,\n",
              " 'good': 7082,\n",
              " 'joke': 7719,\n",
              " 'Girls': 2107,\n",
              " 'situation': 9997,\n",
              " 'seekers': 9805,\n",
              " 'Its': 2471,\n",
              " 'part': 8928,\n",
              " 'checking': 5637,\n",
              " 'IQ': 2403,\n",
              " 'took': 10755,\n",
              " 'forever': 6848,\n",
              " 'come': 5791,\n",
              " 'double': 6324,\n",
              " 'check': 5634,\n",
              " 'hair': 7191,\n",
              " 'dresser': 6352,\n",
              " 'said': 9701,\n",
              " 'wun': 11397,\n",
              " 'cut': 6013,\n",
              " 'short': 9919,\n",
              " 'nice': 8612,\n",
              " 'pleased': 9084,\n",
              " 'advise': 4738,\n",
              " 'following': 6829,\n",
              " 'recent': 9445,\n",
              " 'review': 9600,\n",
              " 'Mob': 2941,\n",
              " 'awarded': 5063,\n",
              " '£1500': 11561,\n",
              " 'Bonus': 1315,\n",
              " '09066364589': 263,\n",
              " 'Today': 4162,\n",
              " 'song': 10116,\n",
              " 'dedicated': 6115,\n",
              " 'day': 6071,\n",
              " 'Which': 4491,\n",
              " 'dedicate': 6114,\n",
              " 'Send': 3750,\n",
              " 'valuable': 11014,\n",
              " 'frnds': 6918,\n",
              " 'rply': 9665,\n",
              " 'Urgent': 4291,\n",
              " 'UR': 4240,\n",
              " 'complimentary': 5826,\n",
              " 'trip': 10828,\n",
              " 'EuroDisinc': 1847,\n",
              " 'Trav': 4184,\n",
              " 'AcoEntry41': 1021,\n",
              " 'Or': 3206,\n",
              " '£1000': 11552,\n",
              " 'DIS': 1626,\n",
              " '186£150moreFrmMob': 391,\n",
              " 'ShrAcomOrSglSuplt10': 3802,\n",
              " 'LS1': 2673,\n",
              " '3AJ': 576,\n",
              " 'hear': 7256,\n",
              " 'new': 8602,\n",
              " 'Divorce': 1722,\n",
              " 'Barbie': 1253,\n",
              " 'It': 2467,\n",
              " 'comes': 5795,\n",
              " 'Kens': 2581,\n",
              " 'plane': 9066,\n",
              " 'month': 8437,\n",
              " 'end': 6488,\n",
              " 'Wah': 4425,\n",
              " 'lucky': 8133,\n",
              " 'save': 9738,\n",
              " 'money': 8430,\n",
              " 'Hee': 2268,\n",
              " 'Finished': 1967,\n",
              " 'HI': 2192,\n",
              " 'BABE': 1147,\n",
              " 'IM': 2380,\n",
              " 'AT': 994,\n",
              " 'HOME': 2204,\n",
              " 'NOW': 3034,\n",
              " 'WANNA': 4355,\n",
              " 'DO': 1629,\n",
              " 'SOMETHING': 3641,\n",
              " 'XX': 4551,\n",
              " 'Kkwhere': 2611,\n",
              " 'youhow': 11510,\n",
              " 'performed': 8992,\n",
              " 'waiting': 11113,\n",
              " 'machan': 8158,\n",
              " 'Thats': 4105,\n",
              " 'cool': 5899,\n",
              " 'gentleman': 7008,\n",
              " 'dignity': 6226,\n",
              " 'respect': 9566,\n",
              " 'peoples': 8984,\n",
              " 'much': 8488,\n",
              " 'shy': 9949,\n",
              " 'pa': 8877,\n",
              " 'Does': 1731,\n",
              " 'operate': 8795,\n",
              " 'Still': 3914,\n",
              " 'looking': 8072,\n",
              " 'job': 7706,\n",
              " 'How': 2346,\n",
              " 'Tas': 4068,\n",
              " 'earn': 6413,\n",
              " 'ah': 4771,\n",
              " 'hi': 7306,\n",
              " 'stop': 10295,\n",
              " 'urgnt': 10971,\n",
              " 'real': 9415,\n",
              " 'yo': 11497,\n",
              " 'tickets': 10667,\n",
              " 'one': 8775,\n",
              " 'jacket': 7667,\n",
              " 'used': 10983,\n",
              " 'multis': 8496,\n",
              " 'started': 10243,\n",
              " 'requests': 9546,\n",
              " 'pain': 8889,\n",
              " 'came': 5493,\n",
              " 'bed': 5163,\n",
              " 'Double': 1747,\n",
              " 'coins': 5770,\n",
              " 'factory': 6641,\n",
              " 'gotta': 7100,\n",
              " 'cash': 5553,\n",
              " 'nitros': 8634,\n",
              " 'babe': 5075,\n",
              " 'Ela': 1820,\n",
              " 'kanoil': 7766,\n",
              " 'download': 6330,\n",
              " 'wen': 11217,\n",
              " 'Don‘t': 1744,\n",
              " 'stand': 10232,\n",
              " 'close': 5736,\n",
              " 'you‘ll': 11527,\n",
              " 'something': 10104,\n",
              " 'another': 4876,\n",
              " 'night': 8617,\n",
              " 'spent': 10179,\n",
              " 'late': 7898,\n",
              " 'afternoon': 4754,\n",
              " 'casualty': 5562,\n",
              " 'means': 8272,\n",
              " 'havent': 7241,\n",
              " 'stuff42moro': 10343,\n",
              " 'includes': 7526,\n",
              " 'sheets': 9888,\n",
              " 'Smile': 3842,\n",
              " 'Pleasure': 3356,\n",
              " 'trouble': 10833,\n",
              " 'pours': 9166,\n",
              " 'Rain': 3488,\n",
              " 'sum1': 10393,\n",
              " 'Hurts': 2359,\n",
              " 'becoz': 5161,\n",
              " 'SOMEONE': 3639,\n",
              " 'Loves': 2751,\n",
              " 'Smiling': 3844,\n",
              " 'service': 9850,\n",
              " 'representative': 9543,\n",
              " '0800': 50,\n",
              " '169': 384,\n",
              " '6031': 726,\n",
              " '10am9pm': 309,\n",
              " 'WON': 4402,\n",
              " 'guaranteed': 7159,\n",
              " '£5000': 11588,\n",
              " 'Havent': 2257,\n",
              " 'planning': 9070,\n",
              " 'buy': 5438,\n",
              " 'lido': 7972,\n",
              " '530': 697,\n",
              " 'show': 9933,\n",
              " 'e': 6407,\n",
              " 'work': 11344,\n",
              " 'ringtone': 9618,\n",
              " 'collected': 5777,\n",
              " 'Simply': 3812,\n",
              " 'text': 10567,\n",
              " 'password': 8947,\n",
              " 'MIX': 2818,\n",
              " '85069': 856,\n",
              " 'verify': 11035,\n",
              " 'Get': 2099,\n",
              " 'Usher': 4296,\n",
              " 'Britney': 1349,\n",
              " 'FML': 1905,\n",
              " 'PO': 3256,\n",
              " 'Box': 1326,\n",
              " '5249': 694,\n",
              " 'MK17': 2819,\n",
              " '92H': 914,\n",
              " '450Ppw': 636,\n",
              " 'Watching': 4449,\n",
              " 'telugu': 10548,\n",
              " 'moviewat': 8464,\n",
              " 'abt': 4665,\n",
              " 'When': 4482,\n",
              " 'loads': 8039,\n",
              " 'loans': 8041,\n",
              " 'Hi': 2292,\n",
              " 'Wk': 4514,\n",
              " 'hols': 7347,\n",
              " 'run': 9681,\n",
              " 'Forgot': 1985,\n",
              " 'hairdressers': 7193,\n",
              " 'appointment': 4925,\n",
              " 'four': 6875,\n",
              " 'shower': 9935,\n",
              " 'beforehand': 5175,\n",
              " 'cause': 5569,\n",
              " 'prob': 9251,\n",
              " 'cup': 5998,\n",
              " 'coffee': 5765,\n",
              " 'animation': 4863,\n",
              " 'nothing': 8669,\n",
              " 'else': 6472,\n",
              " 'Okay': 3177,\n",
              " 'price': 9227,\n",
              " 'long': 8065,\n",
              " 'legal': 7940,\n",
              " 'Wen': 4468,\n",
              " 'Y': 4565,\n",
              " 'ave': 5051,\n",
              " 'ams': 4847,\n",
              " 'xx': 11459,\n",
              " 'And': 1085,\n",
              " 'gone': 7078,\n",
              " '4the': 675,\n",
              " 'driving': 6361,\n",
              " 'test': 10563,\n",
              " 'yet': 11489,\n",
              " 'wow': 11373,\n",
              " 'Youre': 4632,\n",
              " 'mean': 8268,\n",
              " 'guess': 7163,\n",
              " 'gave': 6989,\n",
              " 'boston': 5316,\n",
              " 'men': 8304,\n",
              " 'changed': 5603,\n",
              " 'search': 9785,\n",
              " 'location': 8044,\n",
              " 'nyc': 8708,\n",
              " 'Cuz': 1597,\n",
              " 'signin': 9963,\n",
              " 'page': 8885,\n",
              " 'says': 9748,\n",
              " 'Umma': 4263,\n",
              " 'life': 7975,\n",
              " 'vava': 11025,\n",
              " 'umma': 10900,\n",
              " 'lot': 8086,\n",
              " 'dear': 6092,\n",
              " 'wishes': 11293,\n",
              " 'birthday': 5241,\n",
              " 'making': 8193,\n",
              " 'truly': 10840,\n",
              " 'memorable': 8301,\n",
              " 'Aight': 1046,\n",
              " 'hit': 7325,\n",
              " 'would': 11369,\n",
              " 'ip': 7608,\n",
              " 'address': 4715,\n",
              " 'considering': 5868,\n",
              " 'computer': 5832,\n",
              " 'isnt': 7630,\n",
              " 'minecraft': 8359,\n",
              " 'server': 9849,\n",
              " 'Grumpy': 2144,\n",
              " 'old': 8769,\n",
              " 'people': 8983,\n",
              " 'My': 2994,\n",
              " 'mom': 8421,\n",
              " 'better': 5210,\n",
              " 'lying': 8149,\n",
              " 'jokes': 7721,\n",
              " 'worry': 11360,\n",
              " 'busy': 5433,\n",
              " 'plural': 9094,\n",
              " 'noun': 8676,\n",
              " 'research': 9552,\n",
              " 'Going': 2118,\n",
              " 'dinnermsg': 6236,\n",
              " 'cos': 5917,\n",
              " 'things': 10621,\n",
              " 'scared': 9754,\n",
              " 'mah': 8179,\n",
              " 'Cos': 1560,\n",
              " 'loud': 8097,\n",
              " 'GENT': 2031,\n",
              " 'contact': 5873,\n",
              " 'Last': 2691,\n",
              " 'weekends': 11198,\n",
              " 'draw': 6340,\n",
              " 'shows': 9940,\n",
              " 'GUARANTEED': 2074,\n",
              " '09064012160': 238,\n",
              " 'Code': 1531,\n",
              " 'K52': 2553,\n",
              " '12hrs': 338,\n",
              " '150ppm': 370,\n",
              " 'Wa': 4423,\n",
              " 'openin': 8792,\n",
              " 'sentence': 9839,\n",
              " 'formal': 6859,\n",
              " 'Anyway': 1092,\n",
              " 'fine': 6755,\n",
              " 'juz': 7749,\n",
              " 'tt': 10850,\n",
              " 'eatin': 6426,\n",
              " 'puttin': 9332,\n",
              " 'weightHaha': 11205,\n",
              " 'anythin': 4896,\n",
              " 'happened': 7217,\n",
              " 'entered': 6511,\n",
              " 'cabin': 5453,\n",
              " 'PA': 3224,\n",
              " 'Happy': 2247,\n",
              " 'Bday': 1260,\n",
              " 'Boss': 1323,\n",
              " 'felt': 6716,\n",
              " 'She': 3779,\n",
              " 'askd': 4990,\n",
              " 'After': 1033,\n",
              " 'invited': 7601,\n",
              " 'apartment': 4905,\n",
              " 'went': 11219,\n",
              " 'winner': 11283,\n",
              " 'specially': 10166,\n",
              " 'holiday': 7343,\n",
              " 'flights': 6799,\n",
              " 'inc': 7521,\n",
              " 'operator': 8796,\n",
              " '0871277810910pmin': 123,\n",
              " '18': 387,\n",
              " 'Goodo': 2127,\n",
              " 'must': 8513,\n",
              " 'friday': 6902,\n",
              " 'eggpotato': 6451,\n",
              " 'ratio': 9392,\n",
              " 'tortilla': 10772,\n",
              " 'needed': 8577,\n",
              " 'Hmmmy': 2315,\n",
              " 'uncle': 10905,\n",
              " 'informed': 7548,\n",
              " 'paying': 8962,\n",
              " 'school': 9760,\n",
              " 'directly': 6240,\n",
              " 'pls': 9090,\n",
              " 'food': 6835,\n",
              " 'PRIVATE': 3286,\n",
              " '2004': 429,\n",
              " 'Account': 1017,\n",
              " 'Statement': 3907,\n",
              " '07742676969': 31,\n",
              " '786': 788,\n",
              " 'unredeemed': 10943,\n",
              " 'Points': 3371,\n",
              " '08719180248': 171,\n",
              " 'Identifier': 2425,\n",
              " '45239': 639,\n",
              " 'Expires': 1873,\n",
              " '£2000': 11573,\n",
              " 'Caller': 1457,\n",
              " '5903': 702,\n",
              " 'Landline': 2686,\n",
              " '09064019788': 244,\n",
              " 'BOX42WR29C': 1211,\n",
              " '150PPM': 355,\n",
              " 'applespairsall': 4919,\n",
              " 'malarky': 8195,\n",
              " 'Todays': 4163,\n",
              " 'Voda': 4337,\n",
              " 'numbers': 8699,\n",
              " 'ending': 6490,\n",
              " '7548': 783,\n",
              " '350': 566,\n",
              " 'award': 5062,\n",
              " 'match': 8235,\n",
              " 'please': 9083,\n",
              " '08712300220': 105,\n",
              " 'quoting': 9359,\n",
              " '4041': 610,\n",
              " 'standard': 10233,\n",
              " 'rates': 9390,\n",
              " 'app': 4913,\n",
              " 'sao': 9720,\n",
              " 'mu': 8487,\n",
              " 'Will': 4501,\n",
              " 'Ü': 11604,\n",
              " 'predict': 9194,\n",
              " 'wat': 11154,\n",
              " 'üll': 11608,\n",
              " 'buying': 5441,\n",
              " 'Good': 2122,\n",
              " 'knowyetunde': 7835,\n",
              " 'hasnt': 7232,\n",
              " 'sent': 9838,\n",
              " 'bother': 5318,\n",
              " 'sending': 9831,\n",
              " 'involve': 7605,\n",
              " 'shouldnt': 9927,\n",
              " 'imposed': 7511,\n",
              " 'apologise': 4910,\n",
              " 'HEY': 2188,\n",
              " 'GIRL': 2037,\n",
              " 'HOW': 2215,\n",
              " 'HOPE': 2208,\n",
              " 'WELL': 4367,\n",
              " 'ME': 2792,\n",
              " 'AN': 972,\n",
              " 'DEL': 1618,\n",
              " 'BAK': 1157,\n",
              " 'AGAIN': 951,\n",
              " 'LONG': 2659,\n",
              " 'TIME': 4023,\n",
              " 'GIVE': 2040,\n",
              " 'CALL': 1377,\n",
              " 'SUM': 3690,\n",
              " 'FROM': 1931,\n",
              " 'LUCYxx': 2679,\n",
              " 'Kkhow': 2605,\n",
              " 'cost': 5919,\n",
              " 'Dear': 1676,\n",
              " 'Tmorrowpls': 4155,\n",
              " 'accomodate': 4682,\n",
              " 'answer': 4879,\n",
              " 'question': 9345,\n",
              " 'Sunshine': 3949,\n",
              " 'Quiz': 3438,\n",
              " 'Wkly': 4515,\n",
              " 'Q': 3424,\n",
              " 'Win': 4502,\n",
              " 'top': 10763,\n",
              " 'Sony': 3863,\n",
              " 'DVD': 1656,\n",
              " 'player': 9075,\n",
              " 'country': 5934,\n",
              " 'Algarve': 1062,\n",
              " 'ansr': 4878,\n",
              " '82277': 827,\n",
              " 'SPTyrone': 3665,\n",
              " 'Want': 4438,\n",
              " 'laid': 7870,\n",
              " 'Dogging': 1733,\n",
              " 'locations': 8045,\n",
              " 'direct': 6239,\n",
              " 'mob': 8404,\n",
              " 'Join': 2530,\n",
              " 'UKs': 4229,\n",
              " 'largest': 7892,\n",
              " 'Network': 3061,\n",
              " 'bt': 5397,\n",
              " 'Txting': 4217,\n",
              " 'GRAVEL': 2070,\n",
              " '69888': 752,\n",
              " 'Nt': 3121,\n",
              " 'ec2a': 6429,\n",
              " '31pmsg150p': 559,\n",
              " 'haf': 7187,\n",
              " 'msn': 8482,\n",
              " 'yijuehotmailcom': 11495,\n",
              " 'rooms': 9653,\n",
              " 'befor': 5174,\n",
              " 'activities': 4705,\n",
              " 'Youll': 4630,\n",
              " ...}"
            ]
          },
          "metadata": {
            "tags": []
          },
          "execution_count": 32
        }
      ]
    },
    {
      "cell_type": "markdown",
      "metadata": {
        "id": "QHzAw3wRR0OW"
      },
      "source": [
        "Above is the vocabulary and the tokens"
      ]
    },
    {
      "cell_type": "code",
      "metadata": {
        "colab": {
          "base_uri": "https://localhost:8080/"
        },
        "id": "rZQIZMpDRyiy",
        "outputId": "c401c81b-42bd-4f86-8c92-ccd719869f7a"
      },
      "source": [
        "len(myBag.vocabulary_)"
      ],
      "execution_count": 34,
      "outputs": [
        {
          "output_type": "execute_result",
          "data": {
            "text/plain": [
              "11614"
            ]
          },
          "metadata": {
            "tags": []
          },
          "execution_count": 34
        }
      ]
    },
    {
      "cell_type": "markdown",
      "metadata": {
        "id": "fw_Nq-zBSFUv"
      },
      "source": [
        "The bag has 11614 words"
      ]
    },
    {
      "cell_type": "code",
      "metadata": {
        "id": "2AJCTM7YSCC2"
      },
      "source": [
        "sample=myBag.transform([df['Message'][1]])"
      ],
      "execution_count": 37,
      "outputs": []
    },
    {
      "cell_type": "code",
      "metadata": {
        "colab": {
          "base_uri": "https://localhost:8080/"
        },
        "id": "TL4pAn3WSVX3",
        "outputId": "ce04fb96-c094-4df8-b1ef-d5f2e2375a38"
      },
      "source": [
        "print(sample)"
      ],
      "execution_count": 38,
      "outputs": [
        {
          "output_type": "stream",
          "text": [
            "  (0, 73)\t1\n",
            "  (0, 423)\t1\n",
            "  (0, 430)\t1\n",
            "  (0, 443)\t1\n",
            "  (0, 871)\t1\n",
            "  (0, 1588)\t1\n",
            "  (0, 1881)\t2\n",
            "  (0, 1992)\t1\n",
            "  (0, 2895)\t1\n",
            "  (0, 4094)\t1\n",
            "  (0, 4921)\t1\n",
            "  (0, 5809)\t1\n",
            "  (0, 6521)\t2\n",
            "  (0, 6747)\t1\n",
            "  (0, 9348)\t1\n",
            "  (0, 9389)\t1\n",
            "  (0, 9441)\t1\n",
            "  (0, 10701)\t1\n",
            "  (0, 10875)\t1\n",
            "  (0, 11273)\t1\n",
            "  (0, 11312)\t1\n"
          ],
          "name": "stdout"
        }
      ]
    },
    {
      "cell_type": "markdown",
      "metadata": {
        "id": "nbAqxbbySivf"
      },
      "source": [
        "The message below has been tokenized as above"
      ]
    },
    {
      "cell_type": "code",
      "metadata": {
        "colab": {
          "base_uri": "https://localhost:8080/",
          "height": 52
        },
        "id": "wZYz65OhSbdl",
        "outputId": "59aafc03-cd68-4461-8842-184b7d3ed4d1"
      },
      "source": [
        "df['Message'][1]"
      ],
      "execution_count": 39,
      "outputs": [
        {
          "output_type": "execute_result",
          "data": {
            "application/vnd.google.colaboratory.intrinsic+json": {
              "type": "string"
            },
            "text/plain": [
              "\"Free entry in 2 a wkly comp to win FA Cup final tkts 21st May 2005. Text FA to 87121 to receive entry question(std txt rate)T&C's apply 08452810075over18's\""
            ]
          },
          "metadata": {
            "tags": []
          },
          "execution_count": 39
        }
      ]
    },
    {
      "cell_type": "code",
      "metadata": {
        "id": "hU-Rr6xxSf9t"
      },
      "source": [
        "messagesTokenized=myBag.transform(df['Message'])"
      ],
      "execution_count": 41,
      "outputs": []
    },
    {
      "cell_type": "markdown",
      "metadata": {
        "id": "ejXpUWA9S5Ke"
      },
      "source": [
        "Now we have tokenized all the messages in the dataframe and saved them in messagesTokenized"
      ]
    },
    {
      "cell_type": "markdown",
      "metadata": {
        "id": "l6AREzFgTZRO"
      },
      "source": [
        "It is a sparse matrix with columns of keyword token IDs and rows with 1 if the keyword is in a message"
      ]
    },
    {
      "cell_type": "code",
      "metadata": {
        "id": "0L62lI03S2vD"
      },
      "source": [
        "from sklearn.model_selection import train_test_split"
      ],
      "execution_count": 42,
      "outputs": []
    },
    {
      "cell_type": "markdown",
      "metadata": {
        "id": "6BVbD6ArUAQO"
      },
      "source": [
        "Now lets start the machine learning by doing the test train split of the data"
      ]
    },
    {
      "cell_type": "code",
      "metadata": {
        "id": "NDWCP4HiTn9W"
      },
      "source": [
        "X_train,X_test,y_train,y_test=train_test_split(messagesTokenized,df['Label'],test_size=0.25)"
      ],
      "execution_count": 43,
      "outputs": []
    },
    {
      "cell_type": "code",
      "metadata": {
        "id": "VRzLoW3PUK22"
      },
      "source": [
        "from sklearn.naive_bayes import MultinomialNB"
      ],
      "execution_count": 44,
      "outputs": []
    },
    {
      "cell_type": "markdown",
      "metadata": {
        "id": "LlqQE1zsUMYV"
      },
      "source": [
        "MultinomialNB is good for NLP"
      ]
    },
    {
      "cell_type": "code",
      "metadata": {
        "id": "RW6sLt_cULpF"
      },
      "source": [
        "NLPmodel=MultinomialNB()"
      ],
      "execution_count": 45,
      "outputs": []
    },
    {
      "cell_type": "code",
      "metadata": {
        "colab": {
          "base_uri": "https://localhost:8080/"
        },
        "id": "a0pdw8QhUWKk",
        "outputId": "a940052c-5f79-4440-9446-595ace0c4e69"
      },
      "source": [
        "NLPmodel.fit(X_train,y_train)"
      ],
      "execution_count": 46,
      "outputs": [
        {
          "output_type": "execute_result",
          "data": {
            "text/plain": [
              "MultinomialNB(alpha=1.0, class_prior=None, fit_prior=True)"
            ]
          },
          "metadata": {
            "tags": []
          },
          "execution_count": 46
        }
      ]
    },
    {
      "cell_type": "markdown",
      "metadata": {
        "id": "x7-5UUZ7UlcO"
      },
      "source": [
        "We have fitted the model to the train data"
      ]
    },
    {
      "cell_type": "code",
      "metadata": {
        "id": "wnyPpQ8OUjy4"
      },
      "source": [
        "predictions=NLPmodel.predict(X_test)"
      ],
      "execution_count": 47,
      "outputs": []
    },
    {
      "cell_type": "markdown",
      "metadata": {
        "id": "235iEyPMUvQk"
      },
      "source": [
        "THe above predicts the Labels from the test data"
      ]
    },
    {
      "cell_type": "code",
      "metadata": {
        "id": "-KVfe0_qUtl3"
      },
      "source": [
        "from sklearn.metrics import classification_report,confusion_matrix"
      ],
      "execution_count": 48,
      "outputs": []
    },
    {
      "cell_type": "markdown",
      "metadata": {
        "id": "Xx2USVwTU5z6"
      },
      "source": [
        "Import the classification report for measuring accuracy and the confusion matrix to see the type of errors"
      ]
    },
    {
      "cell_type": "code",
      "metadata": {
        "colab": {
          "base_uri": "https://localhost:8080/"
        },
        "id": "kw4ITZUlU5Fn",
        "outputId": "b90e9e8f-a837-454a-dd5b-1587526d1089"
      },
      "source": [
        "print (confusion_matrix(y_test,predictions))"
      ],
      "execution_count": 49,
      "outputs": [
        {
          "output_type": "stream",
          "text": [
            "[[1193   25]\n",
            " [  10  165]]\n"
          ],
          "name": "stdout"
        }
      ]
    },
    {
      "cell_type": "markdown",
      "metadata": {
        "id": "uVUb8V5IVG_I"
      },
      "source": [
        "As expected the false positives are more due to the unbalanced data"
      ]
    },
    {
      "cell_type": "code",
      "metadata": {
        "colab": {
          "base_uri": "https://localhost:8080/"
        },
        "id": "crTX5OBTVFGP",
        "outputId": "afaad6c1-dbcf-49e3-a40b-08fe469fee7f"
      },
      "source": [
        "print (classification_report(y_test,predictions))"
      ],
      "execution_count": 53,
      "outputs": [
        {
          "output_type": "stream",
          "text": [
            "              precision    recall  f1-score   support\n",
            "\n",
            "         ham       0.99      0.98      0.99      1218\n",
            "        spam       0.87      0.94      0.90       175\n",
            "\n",
            "    accuracy                           0.97      1393\n",
            "   macro avg       0.93      0.96      0.94      1393\n",
            "weighted avg       0.98      0.97      0.98      1393\n",
            "\n"
          ],
          "name": "stdout"
        }
      ]
    },
    {
      "cell_type": "markdown",
      "metadata": {
        "id": "OMw7INv8WEO1"
      },
      "source": [
        "We have achieved 97% accuracy which is pretty awesome"
      ]
    },
    {
      "cell_type": "code",
      "metadata": {
        "id": "nuaoC8CEV6jw"
      },
      "source": [
        ""
      ],
      "execution_count": null,
      "outputs": []
    }
  ]
}