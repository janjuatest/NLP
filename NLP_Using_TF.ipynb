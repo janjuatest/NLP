{
  "nbformat": 4,
  "nbformat_minor": 0,
  "metadata": {
    "colab": {
      "name": "NLP Using TF.ipynb",
      "provenance": [],
      "collapsed_sections": [],
      "authorship_tag": "ABX9TyPxS8fqQw3Uws9kItXV67rh",
      "include_colab_link": true
    },
    "kernelspec": {
      "name": "python3",
      "display_name": "Python 3"
    }
  },
  "cells": [
    {
      "cell_type": "markdown",
      "metadata": {
        "id": "view-in-github",
        "colab_type": "text"
      },
      "source": [
        "<a href=\"https://colab.research.google.com/github/janjuatest/NLP/blob/main/NLP_Using_TF.ipynb\" target=\"_parent\"><img src=\"https://colab.research.google.com/assets/colab-badge.svg\" alt=\"Open In Colab\"/></a>"
      ]
    },
    {
      "cell_type": "code",
      "metadata": {
        "id": "KMCRr7yqMLMd"
      },
      "source": [
        "import pandas as pd\r\n",
        "import seaborn as sns\r\n",
        "import nltk\r\n",
        "import string\r\n",
        "import tensorflow as tf\r\n",
        "from tensorflow import keras\r\n"
      ],
      "execution_count": 3,
      "outputs": []
    },
    {
      "cell_type": "code",
      "metadata": {
        "id": "Yc04tBLlNEU_"
      },
      "source": [
        "from tensorflow.keras.preprocessing.text import Tokenizer"
      ],
      "execution_count": 4,
      "outputs": []
    },
    {
      "cell_type": "markdown",
      "metadata": {
        "id": "uL9hU5vkNcPo"
      },
      "source": [
        "Import the TF libraries"
      ]
    },
    {
      "cell_type": "code",
      "metadata": {
        "id": "Kfgv0sBMPopx"
      },
      "source": [
        "sentences=[\"My name is Altamash\",\"My friends' names are Asif, Tauseef\"]"
      ],
      "execution_count": 5,
      "outputs": []
    },
    {
      "cell_type": "markdown",
      "metadata": {
        "id": "YHF8NUMN6L_c"
      },
      "source": [
        "Sample sentences to check Tokenizer"
      ]
    },
    {
      "cell_type": "code",
      "metadata": {
        "id": "8sEdBu8UNRQ0"
      },
      "source": [
        "df=pd.read_csv('SMSSpamCollection',sep='\\t')"
      ],
      "execution_count": 6,
      "outputs": []
    },
    {
      "cell_type": "code",
      "metadata": {
        "id": "sYrUVeStN1S7"
      },
      "source": [
        "df.columns=['Label','Message']"
      ],
      "execution_count": 7,
      "outputs": []
    },
    {
      "cell_type": "markdown",
      "metadata": {
        "id": "hD_E8d9kOEfR"
      },
      "source": [
        "Read the messages into a data frame with columns Label and Message"
      ]
    },
    {
      "cell_type": "code",
      "metadata": {
        "colab": {
          "base_uri": "https://localhost:8080/",
          "height": 419
        },
        "id": "JfoBcidNN7e6",
        "outputId": "7871736a-07ab-435b-d4cd-9d508401e214"
      },
      "source": [
        "df"
      ],
      "execution_count": 8,
      "outputs": [
        {
          "output_type": "execute_result",
          "data": {
            "text/html": [
              "<div>\n",
              "<style scoped>\n",
              "    .dataframe tbody tr th:only-of-type {\n",
              "        vertical-align: middle;\n",
              "    }\n",
              "\n",
              "    .dataframe tbody tr th {\n",
              "        vertical-align: top;\n",
              "    }\n",
              "\n",
              "    .dataframe thead th {\n",
              "        text-align: right;\n",
              "    }\n",
              "</style>\n",
              "<table border=\"1\" class=\"dataframe\">\n",
              "  <thead>\n",
              "    <tr style=\"text-align: right;\">\n",
              "      <th></th>\n",
              "      <th>Label</th>\n",
              "      <th>Message</th>\n",
              "    </tr>\n",
              "  </thead>\n",
              "  <tbody>\n",
              "    <tr>\n",
              "      <th>0</th>\n",
              "      <td>ham</td>\n",
              "      <td>Ok lar... Joking wif u oni...</td>\n",
              "    </tr>\n",
              "    <tr>\n",
              "      <th>1</th>\n",
              "      <td>spam</td>\n",
              "      <td>Free entry in 2 a wkly comp to win FA Cup fina...</td>\n",
              "    </tr>\n",
              "    <tr>\n",
              "      <th>2</th>\n",
              "      <td>ham</td>\n",
              "      <td>U dun say so early hor... U c already then say...</td>\n",
              "    </tr>\n",
              "    <tr>\n",
              "      <th>3</th>\n",
              "      <td>ham</td>\n",
              "      <td>Nah I don't think he goes to usf, he lives aro...</td>\n",
              "    </tr>\n",
              "    <tr>\n",
              "      <th>4</th>\n",
              "      <td>spam</td>\n",
              "      <td>FreeMsg Hey there darling it's been 3 week's n...</td>\n",
              "    </tr>\n",
              "    <tr>\n",
              "      <th>...</th>\n",
              "      <td>...</td>\n",
              "      <td>...</td>\n",
              "    </tr>\n",
              "    <tr>\n",
              "      <th>5566</th>\n",
              "      <td>spam</td>\n",
              "      <td>This is the 2nd time we have tried 2 contact u...</td>\n",
              "    </tr>\n",
              "    <tr>\n",
              "      <th>5567</th>\n",
              "      <td>ham</td>\n",
              "      <td>Will ü b going to esplanade fr home?</td>\n",
              "    </tr>\n",
              "    <tr>\n",
              "      <th>5568</th>\n",
              "      <td>ham</td>\n",
              "      <td>Pity, * was in mood for that. So...any other s...</td>\n",
              "    </tr>\n",
              "    <tr>\n",
              "      <th>5569</th>\n",
              "      <td>ham</td>\n",
              "      <td>The guy did some bitching but I acted like i'd...</td>\n",
              "    </tr>\n",
              "    <tr>\n",
              "      <th>5570</th>\n",
              "      <td>ham</td>\n",
              "      <td>Rofl. Its true to its name</td>\n",
              "    </tr>\n",
              "  </tbody>\n",
              "</table>\n",
              "<p>5571 rows × 2 columns</p>\n",
              "</div>"
            ],
            "text/plain": [
              "     Label                                            Message\n",
              "0      ham                      Ok lar... Joking wif u oni...\n",
              "1     spam  Free entry in 2 a wkly comp to win FA Cup fina...\n",
              "2      ham  U dun say so early hor... U c already then say...\n",
              "3      ham  Nah I don't think he goes to usf, he lives aro...\n",
              "4     spam  FreeMsg Hey there darling it's been 3 week's n...\n",
              "...    ...                                                ...\n",
              "5566  spam  This is the 2nd time we have tried 2 contact u...\n",
              "5567   ham               Will ü b going to esplanade fr home?\n",
              "5568   ham  Pity, * was in mood for that. So...any other s...\n",
              "5569   ham  The guy did some bitching but I acted like i'd...\n",
              "5570   ham                         Rofl. Its true to its name\n",
              "\n",
              "[5571 rows x 2 columns]"
            ]
          },
          "metadata": {
            "tags": []
          },
          "execution_count": 8
        }
      ]
    },
    {
      "cell_type": "code",
      "metadata": {
        "id": "bGqilfZfOCKw"
      },
      "source": [
        "df['LengthSMS']=df['Message'].apply(len)"
      ],
      "execution_count": 9,
      "outputs": []
    },
    {
      "cell_type": "code",
      "metadata": {
        "colab": {
          "base_uri": "https://localhost:8080/",
          "height": 419
        },
        "id": "1ngPHlEVORNR",
        "outputId": "baa049ae-53e4-4261-fed8-13b7075222b1"
      },
      "source": [
        "df"
      ],
      "execution_count": 10,
      "outputs": [
        {
          "output_type": "execute_result",
          "data": {
            "text/html": [
              "<div>\n",
              "<style scoped>\n",
              "    .dataframe tbody tr th:only-of-type {\n",
              "        vertical-align: middle;\n",
              "    }\n",
              "\n",
              "    .dataframe tbody tr th {\n",
              "        vertical-align: top;\n",
              "    }\n",
              "\n",
              "    .dataframe thead th {\n",
              "        text-align: right;\n",
              "    }\n",
              "</style>\n",
              "<table border=\"1\" class=\"dataframe\">\n",
              "  <thead>\n",
              "    <tr style=\"text-align: right;\">\n",
              "      <th></th>\n",
              "      <th>Label</th>\n",
              "      <th>Message</th>\n",
              "      <th>LengthSMS</th>\n",
              "    </tr>\n",
              "  </thead>\n",
              "  <tbody>\n",
              "    <tr>\n",
              "      <th>0</th>\n",
              "      <td>ham</td>\n",
              "      <td>Ok lar... Joking wif u oni...</td>\n",
              "      <td>29</td>\n",
              "    </tr>\n",
              "    <tr>\n",
              "      <th>1</th>\n",
              "      <td>spam</td>\n",
              "      <td>Free entry in 2 a wkly comp to win FA Cup fina...</td>\n",
              "      <td>155</td>\n",
              "    </tr>\n",
              "    <tr>\n",
              "      <th>2</th>\n",
              "      <td>ham</td>\n",
              "      <td>U dun say so early hor... U c already then say...</td>\n",
              "      <td>49</td>\n",
              "    </tr>\n",
              "    <tr>\n",
              "      <th>3</th>\n",
              "      <td>ham</td>\n",
              "      <td>Nah I don't think he goes to usf, he lives aro...</td>\n",
              "      <td>61</td>\n",
              "    </tr>\n",
              "    <tr>\n",
              "      <th>4</th>\n",
              "      <td>spam</td>\n",
              "      <td>FreeMsg Hey there darling it's been 3 week's n...</td>\n",
              "      <td>147</td>\n",
              "    </tr>\n",
              "    <tr>\n",
              "      <th>...</th>\n",
              "      <td>...</td>\n",
              "      <td>...</td>\n",
              "      <td>...</td>\n",
              "    </tr>\n",
              "    <tr>\n",
              "      <th>5566</th>\n",
              "      <td>spam</td>\n",
              "      <td>This is the 2nd time we have tried 2 contact u...</td>\n",
              "      <td>160</td>\n",
              "    </tr>\n",
              "    <tr>\n",
              "      <th>5567</th>\n",
              "      <td>ham</td>\n",
              "      <td>Will ü b going to esplanade fr home?</td>\n",
              "      <td>36</td>\n",
              "    </tr>\n",
              "    <tr>\n",
              "      <th>5568</th>\n",
              "      <td>ham</td>\n",
              "      <td>Pity, * was in mood for that. So...any other s...</td>\n",
              "      <td>57</td>\n",
              "    </tr>\n",
              "    <tr>\n",
              "      <th>5569</th>\n",
              "      <td>ham</td>\n",
              "      <td>The guy did some bitching but I acted like i'd...</td>\n",
              "      <td>125</td>\n",
              "    </tr>\n",
              "    <tr>\n",
              "      <th>5570</th>\n",
              "      <td>ham</td>\n",
              "      <td>Rofl. Its true to its name</td>\n",
              "      <td>26</td>\n",
              "    </tr>\n",
              "  </tbody>\n",
              "</table>\n",
              "<p>5571 rows × 3 columns</p>\n",
              "</div>"
            ],
            "text/plain": [
              "     Label                                            Message  LengthSMS\n",
              "0      ham                      Ok lar... Joking wif u oni...         29\n",
              "1     spam  Free entry in 2 a wkly comp to win FA Cup fina...        155\n",
              "2      ham  U dun say so early hor... U c already then say...         49\n",
              "3      ham  Nah I don't think he goes to usf, he lives aro...         61\n",
              "4     spam  FreeMsg Hey there darling it's been 3 week's n...        147\n",
              "...    ...                                                ...        ...\n",
              "5566  spam  This is the 2nd time we have tried 2 contact u...        160\n",
              "5567   ham               Will ü b going to esplanade fr home?         36\n",
              "5568   ham  Pity, * was in mood for that. So...any other s...         57\n",
              "5569   ham  The guy did some bitching but I acted like i'd...        125\n",
              "5570   ham                         Rofl. Its true to its name         26\n",
              "\n",
              "[5571 rows x 3 columns]"
            ]
          },
          "metadata": {
            "tags": []
          },
          "execution_count": 10
        }
      ]
    },
    {
      "cell_type": "code",
      "metadata": {
        "colab": {
          "base_uri": "https://localhost:8080/",
          "height": 352
        },
        "id": "jjgy9KNeVNFu",
        "outputId": "6ee57bcf-3162-4951-baff-de74f9a4d8b1"
      },
      "source": [
        "sns.countplot(df['Label'])"
      ],
      "execution_count": 11,
      "outputs": [
        {
          "output_type": "stream",
          "text": [
            "/usr/local/lib/python3.6/dist-packages/seaborn/_decorators.py:43: FutureWarning: Pass the following variable as a keyword arg: x. From version 0.12, the only valid positional argument will be `data`, and passing other arguments without an explicit keyword will result in an error or misinterpretation.\n",
            "  FutureWarning\n"
          ],
          "name": "stderr"
        },
        {
          "output_type": "execute_result",
          "data": {
            "text/plain": [
              "<matplotlib.axes._subplots.AxesSubplot at 0x7f06ea14bb00>"
            ]
          },
          "metadata": {
            "tags": []
          },
          "execution_count": 11
        },
        {
          "output_type": "display_data",
          "data": {
            "image/png": "[encoded data removed]",
            "text/plain": [
              "<Figure size 432x288 with 1 Axes>"
            ]
          },
          "metadata": {
            "tags": [],
            "needs_background": "light"
          }
        }
      ]
    },
    {
      "cell_type": "markdown",
      "metadata": {
        "id": "j_VdjfBkVRhI"
      },
      "source": [
        "The data is unbalanced so learning might not be very good\r\n",
        "There will be more false positives are more likely"
      ]
    },
    {
      "cell_type": "code",
      "metadata": {
        "colab": {
          "base_uri": "https://localhost:8080/"
        },
        "id": "CXILfb0RVnF4",
        "outputId": "a5831391-572d-45fa-809d-a5c693a032de"
      },
      "source": [
        "df.info()"
      ],
      "execution_count": 12,
      "outputs": [
        {
          "output_type": "stream",
          "text": [
            "<class 'pandas.core.frame.DataFrame'>\n",
            "RangeIndex: 5571 entries, 0 to 5570\n",
            "Data columns (total 3 columns):\n",
            " #   Column     Non-Null Count  Dtype \n",
            "---  ------     --------------  ----- \n",
            " 0   Label      5571 non-null   object\n",
            " 1   Message    5571 non-null   object\n",
            " 2   LengthSMS  5571 non-null   int64 \n",
            "dtypes: int64(1), object(2)\n",
            "memory usage: 130.7+ KB\n"
          ],
          "name": "stdout"
        }
      ]
    },
    {
      "cell_type": "markdown",
      "metadata": {
        "id": "GfNZMoTiVptF"
      },
      "source": [
        "There are a total of 5571 messages"
      ]
    },
    {
      "cell_type": "code",
      "metadata": {
        "colab": {
          "base_uri": "https://localhost:8080/",
          "height": 296
        },
        "id": "zP9bk3yjOSD4",
        "outputId": "34fe5641-a36d-447a-8862-e0bf895780a7"
      },
      "source": [
        "sns.violinplot(data=df,x='Label',y='LengthSMS')"
      ],
      "execution_count": 13,
      "outputs": [
        {
          "output_type": "execute_result",
          "data": {
            "text/plain": [
              "<matplotlib.axes._subplots.AxesSubplot at 0x7f06b83f3d68>"
            ]
          },
          "metadata": {
            "tags": []
          },
          "execution_count": 13
        },
        {
          "output_type": "display_data",
          "data": {
            "image/png": "[encoded data removed]",
            "text/plain": [
              "<Figure size 432x288 with 1 Axes>"
            ]
          },
          "metadata": {
            "tags": [],
            "needs_background": "light"
          }
        }
      ]
    },
    {
      "cell_type": "markdown",
      "metadata": {
        "id": "AE-oOQDVOcPK"
      },
      "source": [
        "As can be seen above the spam messages are longer and have lower spread in number of characters"
      ]
    },
    {
      "cell_type": "code",
      "metadata": {
        "id": "IHhcnP7WOa_A"
      },
      "source": [
        "tokenizer=Tokenizer(oov_token=\"<OOV>\")"
      ],
      "execution_count": 14,
      "outputs": []
    },
    {
      "cell_type": "markdown",
      "metadata": {
        "id": "tpqQkOzQJ7_M"
      },
      "source": [
        "oov_token is the out of vocabulary token \r\n",
        "this is not needed in this project but is a useful tool"
      ]
    },
    {
      "cell_type": "markdown",
      "metadata": {
        "id": "0ikzpokcJ6iE"
      },
      "source": [
        ""
      ]
    },
    {
      "cell_type": "code",
      "metadata": {
        "id": "h0J9fJMQPrPs"
      },
      "source": [
        "tokenizer.fit_on_texts(sentences)"
      ],
      "execution_count": 15,
      "outputs": []
    },
    {
      "cell_type": "code",
      "metadata": {
        "id": "nJcyWYS0Pv2O"
      },
      "source": [
        "word_index=tokenizer.word_index"
      ],
      "execution_count": 16,
      "outputs": []
    },
    {
      "cell_type": "code",
      "metadata": {
        "colab": {
          "base_uri": "https://localhost:8080/"
        },
        "id": "3IseY2G066Zz",
        "outputId": "446b29d7-fb6c-48f0-f9a1-e92ed8fc420c"
      },
      "source": [
        "print(word_index)"
      ],
      "execution_count": 17,
      "outputs": [
        {
          "output_type": "stream",
          "text": [
            "{'<OOV>': 1, 'my': 2, 'name': 3, 'is': 4, 'altamash': 5, \"friends'\": 6, 'names': 7, 'are': 8, 'asif': 9, 'tauseef': 10}\n"
          ],
          "name": "stdout"
        }
      ]
    },
    {
      "cell_type": "markdown",
      "metadata": {
        "id": "3YaYgVun7fpK"
      },
      "source": [
        "The sentences have now been tokenized as per the dictionary above. Each words is paired with its associated token number\r\n",
        "e.g. my has a token of 1"
      ]
    },
    {
      "cell_type": "code",
      "metadata": {
        "colab": {
          "base_uri": "https://localhost:8080/"
        },
        "id": "_T2CGjqr7v1X",
        "outputId": "2077e784-acde-4c8c-95ec-e9b72b5284ae"
      },
      "source": [
        "df['Message'][1:5]"
      ],
      "execution_count": 18,
      "outputs": [
        {
          "output_type": "execute_result",
          "data": {
            "text/plain": [
              "1    Free entry in 2 a wkly comp to win FA Cup fina...\n",
              "2    U dun say so early hor... U c already then say...\n",
              "3    Nah I don't think he goes to usf, he lives aro...\n",
              "4    FreeMsg Hey there darling it's been 3 week's n...\n",
              "Name: Message, dtype: object"
            ]
          },
          "metadata": {
            "tags": []
          },
          "execution_count": 18
        }
      ]
    },
    {
      "cell_type": "markdown",
      "metadata": {
        "id": "0ksQeZ1y8lPR"
      },
      "source": [
        "Now lets tokenize these messages and see what happens"
      ]
    },
    {
      "cell_type": "code",
      "metadata": {
        "id": "7yTVFD_h8p2M"
      },
      "source": [
        "tokenizer.fit_on_texts(df['Message'][1:5])"
      ],
      "execution_count": 19,
      "outputs": []
    },
    {
      "cell_type": "code",
      "metadata": {
        "id": "3JicS294809z"
      },
      "source": [
        "word_index=tokenizer.word_index"
      ],
      "execution_count": 20,
      "outputs": []
    },
    {
      "cell_type": "code",
      "metadata": {
        "colab": {
          "base_uri": "https://localhost:8080/"
        },
        "id": "1P42KUqr804i",
        "outputId": "34306774-1aa4-44a2-ddde-fe955096a9f9"
      },
      "source": [
        "print(word_index)"
      ],
      "execution_count": 21,
      "outputs": [
        {
          "output_type": "stream",
          "text": [
            "{'<OOV>': 1, 'to': 2, 'my': 3, 'entry': 4, 'fa': 5, 'std': 6, 'u': 7, 'say': 8, 'he': 9, 'name': 10, 'is': 11, 'altamash': 12, \"friends'\": 13, 'names': 14, 'are': 15, 'asif': 16, 'tauseef': 17, 'free': 18, 'in': 19, '2': 20, 'a': 21, 'wkly': 22, 'comp': 23, 'win': 24, 'cup': 25, 'final': 26, 'tkts': 27, '21st': 28, 'may': 29, '2005': 30, 'text': 31, '87121': 32, 'receive': 33, 'question': 34, 'txt': 35, 'rate': 36, 't': 37, \"c's\": 38, 'apply': 39, \"08452810075over18's\": 40, 'dun': 41, 'so': 42, 'early': 43, 'hor': 44, 'c': 45, 'already': 46, 'then': 47, 'nah': 48, 'i': 49, \"don't\": 50, 'think': 51, 'goes': 52, 'usf': 53, 'lives': 54, 'around': 55, 'here': 56, 'though': 57, 'freemsg': 58, 'hey': 59, 'there': 60, 'darling': 61, \"it's\": 62, 'been': 63, '3': 64, \"week's\": 65, 'now': 66, 'and': 67, 'no': 68, 'word': 69, 'back': 70, \"i'd\": 71, 'like': 72, 'some': 73, 'fun': 74, 'you': 75, 'up': 76, 'for': 77, 'it': 78, 'still': 79, 'tb': 80, 'ok': 81, 'xxx': 82, 'chgs': 83, 'send': 84, '£1': 85, '50': 86, 'rcv': 87}\n"
          ],
          "name": "stdout"
        }
      ]
    },
    {
      "cell_type": "markdown",
      "metadata": {
        "id": "wTIxlJR0C44r"
      },
      "source": [
        "Good its working, now lets tokenize all the messages"
      ]
    },
    {
      "cell_type": "code",
      "metadata": {
        "colab": {
          "base_uri": "https://localhost:8080/"
        },
        "id": "rOVSkiWi80yC",
        "outputId": "e49c7ccf-b808-4ff3-bdb6-4b34586b9386"
      },
      "source": [
        "len (word_index)"
      ],
      "execution_count": 22,
      "outputs": [
        {
          "output_type": "execute_result",
          "data": {
            "text/plain": [
              "87"
            ]
          },
          "metadata": {
            "tags": []
          },
          "execution_count": 22
        }
      ]
    },
    {
      "cell_type": "code",
      "metadata": {
        "id": "Xi3oB95s80rd"
      },
      "source": [
        "tokenizer.fit_on_texts(df['Message'])"
      ],
      "execution_count": 23,
      "outputs": []
    },
    {
      "cell_type": "markdown",
      "metadata": {
        "id": "JuESsjZnegeS"
      },
      "source": [
        "We are currently fitting the tokenizer on all data. Technically this is not optium since we should first split the data into train and test set and then fit the model only on training set.\r\n",
        "\r\n",
        "For this example we will continue as is"
      ]
    },
    {
      "cell_type": "code",
      "metadata": {
        "id": "qaJUl3Cd80jV"
      },
      "source": [
        "word_index=tokenizer.word_index"
      ],
      "execution_count": 24,
      "outputs": []
    },
    {
      "cell_type": "code",
      "metadata": {
        "colab": {
          "base_uri": "https://localhost:8080/"
        },
        "id": "KNq-hm0q80Y_",
        "outputId": "0e56fb83-25a1-4a86-f08e-53df0a4e2506"
      },
      "source": [
        "len(word_index)"
      ],
      "execution_count": 25,
      "outputs": [
        {
          "output_type": "execute_result",
          "data": {
            "text/plain": [
              "9012"
            ]
          },
          "metadata": {
            "tags": []
          },
          "execution_count": 25
        }
      ]
    },
    {
      "cell_type": "markdown",
      "metadata": {
        "id": "J_MGeS-NEKAj"
      },
      "source": [
        "There are a total of 9012 distinct words in the corpus"
      ]
    },
    {
      "cell_type": "code",
      "metadata": {
        "id": "l7VwcJb180MN"
      },
      "source": [
        "df['messageTokenized']=tokenizer.texts_to_sequences(df['Message'])"
      ],
      "execution_count": 49,
      "outputs": []
    },
    {
      "cell_type": "code",
      "metadata": {
        "id": "DQszM1mbRAQo",
        "colab": {
          "base_uri": "https://localhost:8080/",
          "height": 272
        },
        "outputId": "b9ac5621-f161-4927-8598-09234ed93a94"
      },
      "source": [
        "df.head()"
      ],
      "execution_count": 27,
      "outputs": [
        {
          "output_type": "execute_result",
          "data": {
            "text/html": [
              "<div>\n",
              "<style scoped>\n",
              "    .dataframe tbody tr th:only-of-type {\n",
              "        vertical-align: middle;\n",
              "    }\n",
              "\n",
              "    .dataframe tbody tr th {\n",
              "        vertical-align: top;\n",
              "    }\n",
              "\n",
              "    .dataframe thead th {\n",
              "        text-align: right;\n",
              "    }\n",
              "</style>\n",
              "<table border=\"1\" class=\"dataframe\">\n",
              "  <thead>\n",
              "    <tr style=\"text-align: right;\">\n",
              "      <th></th>\n",
              "      <th>Label</th>\n",
              "      <th>Message</th>\n",
              "      <th>LengthSMS</th>\n",
              "      <th>messageTokenized</th>\n",
              "    </tr>\n",
              "  </thead>\n",
              "  <tbody>\n",
              "    <tr>\n",
              "      <th>0</th>\n",
              "      <td>ham</td>\n",
              "      <td>Ok lar... Joking wif u oni...</td>\n",
              "      <td>29</td>\n",
              "      <td>[47, 339, 1499, 475, 7, 1950]</td>\n",
              "    </tr>\n",
              "    <tr>\n",
              "      <th>1</th>\n",
              "      <td>spam</td>\n",
              "      <td>Free entry in 2 a wkly comp to win FA Cup fina...</td>\n",
              "      <td>155</td>\n",
              "      <td>[48, 457, 9, 20, 5, 756, 843, 3, 177, 1497, 10...</td>\n",
              "    </tr>\n",
              "    <tr>\n",
              "      <th>2</th>\n",
              "      <td>ham</td>\n",
              "      <td>U dun say so early hor... U c already then say...</td>\n",
              "      <td>49</td>\n",
              "      <td>[7, 244, 150, 24, 374, 2336, 7, 138, 154, 58, ...</td>\n",
              "    </tr>\n",
              "    <tr>\n",
              "      <th>3</th>\n",
              "      <td>ham</td>\n",
              "      <td>Nah I don't think he goes to usf, he lives aro...</td>\n",
              "      <td>61</td>\n",
              "      <td>[963, 2, 98, 109, 70, 474, 3, 904, 70, 1695, 2...</td>\n",
              "    </tr>\n",
              "    <tr>\n",
              "      <th>4</th>\n",
              "      <td>spam</td>\n",
              "      <td>FreeMsg Hey there darling it's been 3 week's n...</td>\n",
              "      <td>147</td>\n",
              "      <td>[757, 128, 68, 1498, 145, 110, 157, 1696, 22, ...</td>\n",
              "    </tr>\n",
              "  </tbody>\n",
              "</table>\n",
              "</div>"
            ],
            "text/plain": [
              "  Label  ...                                   messageTokenized\n",
              "0   ham  ...                      [47, 339, 1499, 475, 7, 1950]\n",
              "1  spam  ...  [48, 457, 9, 20, 5, 756, 843, 3, 177, 1497, 10...\n",
              "2   ham  ...  [7, 244, 150, 24, 374, 2336, 7, 138, 154, 58, ...\n",
              "3   ham  ...  [963, 2, 98, 109, 70, 474, 3, 904, 70, 1695, 2...\n",
              "4  spam  ...  [757, 128, 68, 1498, 145, 110, 157, 1696, 22, ...\n",
              "\n",
              "[5 rows x 4 columns]"
            ]
          },
          "metadata": {
            "tags": []
          },
          "execution_count": 27
        }
      ]
    },
    {
      "cell_type": "markdown",
      "metadata": {
        "id": "aSQ9FPc4KS8j"
      },
      "source": [
        "We have now created a new column above with the messages tokenized. YEHA!"
      ]
    },
    {
      "cell_type": "markdown",
      "metadata": {
        "id": "rAHcpzWxRId6"
      },
      "source": [
        "Now lets beging the NLP by first making our bag of words and vectorizing the messages"
      ]
    },
    {
      "cell_type": "code",
      "metadata": {
        "id": "w2GHXRJgRIAX",
        "colab": {
          "base_uri": "https://localhost:8080/"
        },
        "outputId": "8839829a-aead-49b4-96cd-59f41ee550e5"
      },
      "source": [
        "x=\"ham\"\r\n",
        "int(x==\"ham\")"
      ],
      "execution_count": 30,
      "outputs": [
        {
          "output_type": "execute_result",
          "data": {
            "text/plain": [
              "1"
            ]
          },
          "metadata": {
            "tags": []
          },
          "execution_count": 30
        }
      ]
    },
    {
      "cell_type": "markdown",
      "metadata": {
        "id": "iEV7igRRWDws"
      },
      "source": [
        "Lets convert the Label coulumn into a binary label cloumn\r\n",
        "Ham = 1 and Spam =0"
      ]
    },
    {
      "cell_type": "code",
      "metadata": {
        "id": "C7xECBsdRWAb"
      },
      "source": [
        "df['LabelB']=df['Label'].apply(lambda label : int(label=='ham'))"
      ],
      "execution_count": 32,
      "outputs": []
    },
    {
      "cell_type": "markdown",
      "metadata": {
        "id": "W8w-8IAFRuau"
      },
      "source": [
        "Now lets look at our processed data frame"
      ]
    },
    {
      "cell_type": "code",
      "metadata": {
        "colab": {
          "base_uri": "https://localhost:8080/",
          "height": 272
        },
        "id": "9Z45pCn8RiLe",
        "outputId": "331ae083-39fd-4f15-cfdc-8013e4cd13ff"
      },
      "source": [
        "df.head()"
      ],
      "execution_count": 33,
      "outputs": [
        {
          "output_type": "execute_result",
          "data": {
            "text/html": [
              "<div>\n",
              "<style scoped>\n",
              "    .dataframe tbody tr th:only-of-type {\n",
              "        vertical-align: middle;\n",
              "    }\n",
              "\n",
              "    .dataframe tbody tr th {\n",
              "        vertical-align: top;\n",
              "    }\n",
              "\n",
              "    .dataframe thead th {\n",
              "        text-align: right;\n",
              "    }\n",
              "</style>\n",
              "<table border=\"1\" class=\"dataframe\">\n",
              "  <thead>\n",
              "    <tr style=\"text-align: right;\">\n",
              "      <th></th>\n",
              "      <th>Label</th>\n",
              "      <th>Message</th>\n",
              "      <th>LengthSMS</th>\n",
              "      <th>messageTokenized</th>\n",
              "      <th>LabelB</th>\n",
              "    </tr>\n",
              "  </thead>\n",
              "  <tbody>\n",
              "    <tr>\n",
              "      <th>0</th>\n",
              "      <td>ham</td>\n",
              "      <td>Ok lar... Joking wif u oni...</td>\n",
              "      <td>29</td>\n",
              "      <td>[47, 339, 1499, 475, 7, 1950]</td>\n",
              "      <td>1</td>\n",
              "    </tr>\n",
              "    <tr>\n",
              "      <th>1</th>\n",
              "      <td>spam</td>\n",
              "      <td>Free entry in 2 a wkly comp to win FA Cup fina...</td>\n",
              "      <td>155</td>\n",
              "      <td>[48, 457, 9, 20, 5, 756, 843, 3, 177, 1497, 10...</td>\n",
              "      <td>0</td>\n",
              "    </tr>\n",
              "    <tr>\n",
              "      <th>2</th>\n",
              "      <td>ham</td>\n",
              "      <td>U dun say so early hor... U c already then say...</td>\n",
              "      <td>49</td>\n",
              "      <td>[7, 244, 150, 24, 374, 2336, 7, 138, 154, 58, ...</td>\n",
              "      <td>1</td>\n",
              "    </tr>\n",
              "    <tr>\n",
              "      <th>3</th>\n",
              "      <td>ham</td>\n",
              "      <td>Nah I don't think he goes to usf, he lives aro...</td>\n",
              "      <td>61</td>\n",
              "      <td>[963, 2, 98, 109, 70, 474, 3, 904, 70, 1695, 2...</td>\n",
              "      <td>1</td>\n",
              "    </tr>\n",
              "    <tr>\n",
              "      <th>4</th>\n",
              "      <td>spam</td>\n",
              "      <td>FreeMsg Hey there darling it's been 3 week's n...</td>\n",
              "      <td>147</td>\n",
              "      <td>[757, 128, 68, 1498, 145, 110, 157, 1696, 22, ...</td>\n",
              "      <td>0</td>\n",
              "    </tr>\n",
              "  </tbody>\n",
              "</table>\n",
              "</div>"
            ],
            "text/plain": [
              "  Label  ... LabelB\n",
              "0   ham  ...      1\n",
              "1  spam  ...      0\n",
              "2   ham  ...      1\n",
              "3   ham  ...      1\n",
              "4  spam  ...      0\n",
              "\n",
              "[5 rows x 5 columns]"
            ]
          },
          "metadata": {
            "tags": []
          },
          "execution_count": 33
        }
      ]
    },
    {
      "cell_type": "markdown",
      "metadata": {
        "id": "1efEyOADXJ3E"
      },
      "source": [
        "Theres only one problem left to input tha data into the Deep Neural Net. The sequence of tokens for each message are not the same length\r\n"
      ]
    },
    {
      "cell_type": "code",
      "metadata": {
        "id": "V0yzTFEdW-6t"
      },
      "source": [
        "from tensorflow.keras.preprocessing.sequence import pad_sequences"
      ],
      "execution_count": 35,
      "outputs": []
    },
    {
      "cell_type": "code",
      "metadata": {
        "colab": {
          "base_uri": "https://localhost:8080/"
        },
        "id": "RrT-1PPJYrrE",
        "outputId": "af28e491-8fd0-4b7f-e700-4f491e04f949"
      },
      "source": [
        "df['messageTokenized'][1:3]"
      ],
      "execution_count": 43,
      "outputs": [
        {
          "output_type": "execute_result",
          "data": {
            "text/plain": [
              "1    [48, 457, 9, 20, 5, 756, 843, 3, 177, 1497, 10...\n",
              "2    [7, 244, 150, 24, 374, 2336, 7, 138, 154, 58, ...\n",
              "Name: messageTokenized, dtype: object"
            ]
          },
          "metadata": {
            "tags": []
          },
          "execution_count": 43
        }
      ]
    },
    {
      "cell_type": "code",
      "metadata": {
        "colab": {
          "base_uri": "https://localhost:8080/"
        },
        "id": "eZbBI6-OW-z9",
        "outputId": "acb22ccf-7712-4459-a2a0-f1f5b06ae0c6"
      },
      "source": [
        "pad_sequences(df['messageTokenized'][1:5000])"
      ],
      "execution_count": 51,
      "outputs": [
        {
          "output_type": "execute_result",
          "data": {
            "text/plain": [
              "array([[   0,    0,    0, ...,  635,  385, 2335],\n",
              "       [   0,    0,    0, ...,  154,   58,  150],\n",
              "       [   0,    0,    0, ...,  215,  113,  458],\n",
              "       ...,\n",
              "       [   0,    0,    0, ...,   84,  132,  526],\n",
              "       [   0,    0,    0, ...,  289,   37,   11],\n",
              "       [   0,    0,    0, ...,  677,  356, 8577]], dtype=int32)"
            ]
          },
          "metadata": {
            "tags": []
          },
          "execution_count": 51
        }
      ]
    },
    {
      "cell_type": "code",
      "metadata": {
        "id": "7g1bLrdGW-qy"
      },
      "source": [
        "paddedMssgs=pad_sequences(df['messageTokenized'])"
      ],
      "execution_count": 56,
      "outputs": []
    },
    {
      "cell_type": "markdown",
      "metadata": {
        "id": "QHzAw3wRR0OW"
      },
      "source": [
        "Great the data frame is ready for tensor flow"
      ]
    },
    {
      "cell_type": "code",
      "metadata": {
        "colab": {
          "base_uri": "https://localhost:8080/"
        },
        "id": "rZQIZMpDRyiy",
        "outputId": "e5bbc6c4-5cd4-42a7-a387-f801b7486540"
      },
      "source": [
        "paddedMssgs.shape"
      ],
      "execution_count": 58,
      "outputs": [
        {
          "output_type": "execute_result",
          "data": {
            "text/plain": [
              "(5571, 189)"
            ]
          },
          "metadata": {
            "tags": []
          },
          "execution_count": 58
        }
      ]
    },
    {
      "cell_type": "markdown",
      "metadata": {
        "id": "fw_Nq-zBSFUv"
      },
      "source": [
        "The addedMssgs has all the sms messages that have been tokenzied and then padded.\r\n",
        "There are 5571 messages and 189 is the length of the longest message"
      ]
    },
    {
      "cell_type": "markdown",
      "metadata": {
        "id": "ngBD--iqdfFf"
      },
      "source": [
        "Now lets start the MACHINE LEARNING using TENSOR FLOW"
      ]
    },
    {
      "cell_type": "code",
      "metadata": {
        "id": "2AJCTM7YSCC2"
      },
      "source": [
        "from sklearn.model_selection import train_test_split"
      ],
      "execution_count": 59,
      "outputs": []
    },
    {
      "cell_type": "code",
      "metadata": {
        "id": "TL4pAn3WSVX3"
      },
      "source": [
        "X_train,X_test,y_train,y_test=train_test_split(paddedMssgs,df['LabelB'],test_size=0.25)"
      ],
      "execution_count": 60,
      "outputs": []
    },
    {
      "cell_type": "markdown",
      "metadata": {
        "id": "nbAqxbbySivf"
      },
      "source": [
        "Splitting the data into test train split"
      ]
    },
    {
      "cell_type": "code",
      "metadata": {
        "id": "wZYz65OhSbdl"
      },
      "source": [
        "from tensorflow.keras.models import Sequential"
      ],
      "execution_count": 61,
      "outputs": []
    },
    {
      "cell_type": "code",
      "metadata": {
        "id": "hU-Rr6xxSf9t"
      },
      "source": [
        "from tensorflow.keras.layers import Dense, Embedding, GlobalAveragePooling1D"
      ],
      "execution_count": 63,
      "outputs": []
    },
    {
      "cell_type": "code",
      "metadata": {
        "id": "0L62lI03S2vD"
      },
      "source": [
        "model=Sequential([\r\n",
        "                  Embedding(10000,16,input_length=200),\r\n",
        "                  GlobalAveragePooling1D(),\r\n",
        "                  Dense(24,activation='relu'),\r\n",
        "                  Dense(1,activation='sigmoid')\r\n",
        "])"
      ],
      "execution_count": 68,
      "outputs": []
    },
    {
      "cell_type": "markdown",
      "metadata": {
        "id": "l5ktzThFiluZ"
      },
      "source": [
        "Embedding decomposes the sentences into reduced dimensions which is 16 in this case\r\n",
        " "
      ]
    },
    {
      "cell_type": "markdown",
      "metadata": {
        "id": "6BVbD6ArUAQO"
      },
      "source": [
        "Our model has been defined"
      ]
    },
    {
      "cell_type": "code",
      "metadata": {
        "id": "NDWCP4HiTn9W"
      },
      "source": [
        "model.compile(loss='binary_crossentropy',optimizer='adam',metrics=['accuracy'])"
      ],
      "execution_count": 69,
      "outputs": []
    },
    {
      "cell_type": "code",
      "metadata": {
        "id": "VRzLoW3PUK22",
        "colab": {
          "base_uri": "https://localhost:8080/"
        },
        "outputId": "8910c95c-2308-451b-9925-c4c648709208"
      },
      "source": [
        "modelHistory=model.fit(X_train,y_train,epochs=50,validation_data=(X_test,y_test),verbose=2)"
      ],
      "execution_count": 70,
      "outputs": [
        {
          "output_type": "stream",
          "text": [
            "Epoch 1/50\n",
            "WARNING:tensorflow:Model was constructed with shape (None, 200) for input KerasTensor(type_spec=TensorSpec(shape=(None, 200), dtype=tf.float32, name='embedding_1_input'), name='embedding_1_input', description=\"created by layer 'embedding_1_input'\"), but it was called on an input with incompatible shape (None, 189).\n",
            "WARNING:tensorflow:Model was constructed with shape (None, 200) for input KerasTensor(type_spec=TensorSpec(shape=(None, 200), dtype=tf.float32, name='embedding_1_input'), name='embedding_1_input', description=\"created by layer 'embedding_1_input'\"), but it was called on an input with incompatible shape (None, 189).\n",
            "WARNING:tensorflow:Model was constructed with shape (None, 200) for input KerasTensor(type_spec=TensorSpec(shape=(None, 200), dtype=tf.float32, name='embedding_1_input'), name='embedding_1_input', description=\"created by layer 'embedding_1_input'\"), but it was called on an input with incompatible shape (None, 189).\n",
            "131/131 - 1s - loss: 0.5403 - accuracy: 0.8652 - val_loss: 0.3876 - val_accuracy: 0.8679\n",
            "Epoch 2/50\n",
            "131/131 - 1s - loss: 0.3762 - accuracy: 0.8652 - val_loss: 0.3641 - val_accuracy: 0.8679\n",
            "Epoch 3/50\n",
            "131/131 - 1s - loss: 0.3639 - accuracy: 0.8652 - val_loss: 0.3522 - val_accuracy: 0.8679\n",
            "Epoch 4/50\n",
            "131/131 - 1s - loss: 0.3494 - accuracy: 0.8652 - val_loss: 0.3352 - val_accuracy: 0.8679\n",
            "Epoch 5/50\n",
            "131/131 - 1s - loss: 0.3267 - accuracy: 0.8652 - val_loss: 0.3067 - val_accuracy: 0.8679\n",
            "Epoch 6/50\n",
            "131/131 - 1s - loss: 0.2857 - accuracy: 0.8652 - val_loss: 0.2506 - val_accuracy: 0.8686\n",
            "Epoch 7/50\n",
            "131/131 - 1s - loss: 0.2121 - accuracy: 0.8973 - val_loss: 0.1714 - val_accuracy: 0.9397\n",
            "Epoch 8/50\n",
            "131/131 - 1s - loss: 0.1378 - accuracy: 0.9569 - val_loss: 0.1137 - val_accuracy: 0.9691\n",
            "Epoch 9/50\n",
            "131/131 - 1s - loss: 0.0917 - accuracy: 0.9751 - val_loss: 0.0839 - val_accuracy: 0.9770\n",
            "Epoch 10/50\n",
            "131/131 - 1s - loss: 0.0662 - accuracy: 0.9823 - val_loss: 0.0668 - val_accuracy: 0.9821\n",
            "Epoch 11/50\n",
            "131/131 - 1s - loss: 0.0515 - accuracy: 0.9868 - val_loss: 0.0578 - val_accuracy: 0.9835\n",
            "Epoch 12/50\n",
            "131/131 - 0s - loss: 0.0427 - accuracy: 0.9880 - val_loss: 0.0523 - val_accuracy: 0.9842\n",
            "Epoch 13/50\n",
            "131/131 - 1s - loss: 0.0369 - accuracy: 0.9904 - val_loss: 0.0489 - val_accuracy: 0.9842\n",
            "Epoch 14/50\n",
            "131/131 - 0s - loss: 0.0316 - accuracy: 0.9914 - val_loss: 0.0461 - val_accuracy: 0.9864\n",
            "Epoch 15/50\n",
            "131/131 - 0s - loss: 0.0283 - accuracy: 0.9919 - val_loss: 0.0441 - val_accuracy: 0.9856\n",
            "Epoch 16/50\n",
            "131/131 - 0s - loss: 0.0258 - accuracy: 0.9935 - val_loss: 0.0427 - val_accuracy: 0.9856\n",
            "Epoch 17/50\n",
            "131/131 - 0s - loss: 0.0232 - accuracy: 0.9935 - val_loss: 0.0414 - val_accuracy: 0.9856\n",
            "Epoch 18/50\n",
            "131/131 - 1s - loss: 0.0211 - accuracy: 0.9947 - val_loss: 0.0486 - val_accuracy: 0.9849\n",
            "Epoch 19/50\n",
            "131/131 - 1s - loss: 0.0200 - accuracy: 0.9945 - val_loss: 0.0401 - val_accuracy: 0.9856\n",
            "Epoch 20/50\n",
            "131/131 - 0s - loss: 0.0176 - accuracy: 0.9947 - val_loss: 0.0422 - val_accuracy: 0.9864\n",
            "Epoch 21/50\n",
            "131/131 - 0s - loss: 0.0162 - accuracy: 0.9955 - val_loss: 0.0398 - val_accuracy: 0.9856\n",
            "Epoch 22/50\n",
            "131/131 - 0s - loss: 0.0162 - accuracy: 0.9957 - val_loss: 0.0383 - val_accuracy: 0.9871\n",
            "Epoch 23/50\n",
            "131/131 - 0s - loss: 0.0142 - accuracy: 0.9962 - val_loss: 0.0399 - val_accuracy: 0.9856\n",
            "Epoch 24/50\n",
            "131/131 - 0s - loss: 0.0130 - accuracy: 0.9962 - val_loss: 0.0435 - val_accuracy: 0.9864\n",
            "Epoch 25/50\n",
            "131/131 - 0s - loss: 0.0116 - accuracy: 0.9964 - val_loss: 0.0399 - val_accuracy: 0.9864\n",
            "Epoch 26/50\n",
            "131/131 - 0s - loss: 0.0108 - accuracy: 0.9969 - val_loss: 0.0380 - val_accuracy: 0.9871\n",
            "Epoch 27/50\n",
            "131/131 - 0s - loss: 0.0099 - accuracy: 0.9981 - val_loss: 0.0455 - val_accuracy: 0.9864\n",
            "Epoch 28/50\n",
            "131/131 - 1s - loss: 0.0091 - accuracy: 0.9971 - val_loss: 0.0384 - val_accuracy: 0.9871\n",
            "Epoch 29/50\n",
            "131/131 - 0s - loss: 0.0084 - accuracy: 0.9983 - val_loss: 0.0378 - val_accuracy: 0.9878\n",
            "Epoch 30/50\n",
            "131/131 - 1s - loss: 0.0076 - accuracy: 0.9981 - val_loss: 0.0379 - val_accuracy: 0.9871\n",
            "Epoch 31/50\n",
            "131/131 - 1s - loss: 0.0070 - accuracy: 0.9983 - val_loss: 0.0399 - val_accuracy: 0.9871\n",
            "Epoch 32/50\n",
            "131/131 - 1s - loss: 0.0067 - accuracy: 0.9986 - val_loss: 0.0400 - val_accuracy: 0.9871\n",
            "Epoch 33/50\n",
            "131/131 - 0s - loss: 0.0062 - accuracy: 0.9983 - val_loss: 0.0387 - val_accuracy: 0.9864\n",
            "Epoch 34/50\n",
            "131/131 - 1s - loss: 0.0058 - accuracy: 0.9988 - val_loss: 0.0440 - val_accuracy: 0.9871\n",
            "Epoch 35/50\n",
            "131/131 - 1s - loss: 0.0055 - accuracy: 0.9990 - val_loss: 0.0409 - val_accuracy: 0.9864\n",
            "Epoch 36/50\n",
            "131/131 - 1s - loss: 0.0051 - accuracy: 0.9990 - val_loss: 0.0390 - val_accuracy: 0.9856\n",
            "Epoch 37/50\n",
            "131/131 - 0s - loss: 0.0047 - accuracy: 0.9988 - val_loss: 0.0422 - val_accuracy: 0.9864\n",
            "Epoch 38/50\n",
            "131/131 - 1s - loss: 0.0047 - accuracy: 0.9988 - val_loss: 0.0417 - val_accuracy: 0.9864\n",
            "Epoch 39/50\n",
            "131/131 - 1s - loss: 0.0045 - accuracy: 0.9990 - val_loss: 0.0419 - val_accuracy: 0.9864\n",
            "Epoch 40/50\n",
            "131/131 - 1s - loss: 0.0039 - accuracy: 0.9993 - val_loss: 0.0469 - val_accuracy: 0.9856\n",
            "Epoch 41/50\n",
            "131/131 - 1s - loss: 0.0035 - accuracy: 0.9993 - val_loss: 0.0406 - val_accuracy: 0.9864\n",
            "Epoch 42/50\n",
            "131/131 - 1s - loss: 0.0036 - accuracy: 0.9990 - val_loss: 0.0407 - val_accuracy: 0.9856\n",
            "Epoch 43/50\n",
            "131/131 - 0s - loss: 0.0035 - accuracy: 0.9990 - val_loss: 0.0437 - val_accuracy: 0.9856\n",
            "Epoch 44/50\n",
            "131/131 - 1s - loss: 0.0031 - accuracy: 0.9993 - val_loss: 0.0420 - val_accuracy: 0.9864\n",
            "Epoch 45/50\n",
            "131/131 - 1s - loss: 0.0029 - accuracy: 0.9998 - val_loss: 0.0446 - val_accuracy: 0.9856\n",
            "Epoch 46/50\n",
            "131/131 - 1s - loss: 0.0029 - accuracy: 0.9995 - val_loss: 0.0451 - val_accuracy: 0.9856\n",
            "Epoch 47/50\n",
            "131/131 - 1s - loss: 0.0026 - accuracy: 0.9993 - val_loss: 0.0449 - val_accuracy: 0.9856\n",
            "Epoch 48/50\n",
            "131/131 - 1s - loss: 0.0028 - accuracy: 0.9993 - val_loss: 0.0509 - val_accuracy: 0.9856\n",
            "Epoch 49/50\n",
            "131/131 - 1s - loss: 0.0024 - accuracy: 0.9995 - val_loss: 0.0471 - val_accuracy: 0.9842\n",
            "Epoch 50/50\n",
            "131/131 - 1s - loss: 0.0022 - accuracy: 0.9998 - val_loss: 0.0443 - val_accuracy: 0.9871\n"
          ],
          "name": "stdout"
        }
      ]
    },
    {
      "cell_type": "markdown",
      "metadata": {
        "id": "LlqQE1zsUMYV"
      },
      "source": [
        "Looks great"
      ]
    },
    {
      "cell_type": "code",
      "metadata": {
        "colab": {
          "base_uri": "https://localhost:8080/",
          "height": 296
        },
        "id": "dW-efOslj09v",
        "outputId": "47d57225-4c46-426e-d7af-25defa2c1cba"
      },
      "source": [
        "import matplotlib.pyplot as plt\r\n",
        "plt.plot(modelHistory.history['loss'])\r\n",
        "plt.plot(modelHistory.history['val_loss'])\r\n",
        "plt.xlabel(\"Epochs\")\r\n",
        "plt.ylabel(\"Loss\")\r\n",
        "plt.legend([\"loss\",\"val_loss\"])"
      ],
      "execution_count": 80,
      "outputs": [
        {
          "output_type": "execute_result",
          "data": {
            "text/plain": [
              "<matplotlib.legend.Legend at 0x7f06a7b46eb8>"
            ]
          },
          "metadata": {
            "tags": []
          },
          "execution_count": 80
        },
        {
          "output_type": "display_data",
          "data": {
            "image/png": "[encoded data removed]",
            "text/plain": [
              "<Figure size 432x288 with 1 Axes>"
            ]
          },
          "metadata": {
            "tags": [],
            "needs_background": "light"
          }
        }
      ]
    },
    {
      "cell_type": "code",
      "metadata": {
        "colab": {
          "base_uri": "https://localhost:8080/",
          "height": 296
        },
        "id": "UwnDRs_foe23",
        "outputId": "15c6e481-8c7e-4460-ba0f-1707af04485d"
      },
      "source": [
        "plt.plot(modelHistory.history['accuracy'])\r\n",
        "plt.plot(modelHistory.history['val_accuracy'])\r\n",
        "plt.xlabel(\"Epochs\")\r\n",
        "plt.ylabel(\"Accuracy\")\r\n",
        "plt.legend([\"accuracy\",\"val_accuracy\"])"
      ],
      "execution_count": 83,
      "outputs": [
        {
          "output_type": "execute_result",
          "data": {
            "text/plain": [
              "<matplotlib.legend.Legend at 0x7f06a7aeaa20>"
            ]
          },
          "metadata": {
            "tags": []
          },
          "execution_count": 83
        },
        {
          "output_type": "display_data",
          "data": {
            "image/png": "[encoded data removed]",
            "text/plain": [
              "<Figure size 432x288 with 1 Axes>"
            ]
          },
          "metadata": {
            "tags": [],
            "needs_background": "light"
          }
        }
      ]
    },
    {
      "cell_type": "markdown",
      "metadata": {
        "id": "H6P6UgqAnWnO"
      },
      "source": [
        "Model is doing good"
      ]
    },
    {
      "cell_type": "code",
      "metadata": {
        "id": "RW6sLt_cULpF"
      },
      "source": [
        "from sklearn.metrics import classification_report,confusion_matrix"
      ],
      "execution_count": 81,
      "outputs": []
    },
    {
      "cell_type": "code",
      "metadata": {
        "colab": {
          "base_uri": "https://localhost:8080/"
        },
        "id": "a0pdw8QhUWKk",
        "outputId": "7844c53c-d672-434a-a3c5-905ecafa4cb7"
      },
      "source": [
        "predictions=model.predict(X_test)"
      ],
      "execution_count": 82,
      "outputs": [
        {
          "output_type": "stream",
          "text": [
            "WARNING:tensorflow:Model was constructed with shape (None, 200) for input KerasTensor(type_spec=TensorSpec(shape=(None, 200), dtype=tf.float32, name='embedding_1_input'), name='embedding_1_input', description=\"created by layer 'embedding_1_input'\"), but it was called on an input with incompatible shape (None, 189).\n"
          ],
          "name": "stdout"
        }
      ]
    },
    {
      "cell_type": "markdown",
      "metadata": {
        "id": "8YDAb7kXoRzk"
      },
      "source": [
        "Ignore the warning since we specified a general max length of 200 that is more than the maximumlength\r\n"
      ]
    },
    {
      "cell_type": "markdown",
      "metadata": {
        "id": "x7-5UUZ7UlcO"
      },
      "source": [
        "Convert the predictions into binary"
      ]
    },
    {
      "cell_type": "code",
      "metadata": {
        "id": "wnyPpQ8OUjy4"
      },
      "source": [
        "binarypredictions=[]\r\n",
        "value=0\r\n",
        "for entry in predictions:\r\n",
        "  if entry >0.5:\r\n",
        "    value=1\r\n",
        "  else:\r\n",
        "    value=0\r\n",
        "  binarypredictions.append(value)\r\n"
      ],
      "execution_count": 86,
      "outputs": []
    },
    {
      "cell_type": "code",
      "metadata": {
        "id": "-KVfe0_qUtl3",
        "colab": {
          "base_uri": "https://localhost:8080/"
        },
        "outputId": "c31bb925-f27b-45f6-bdc8-49969c2a7d10"
      },
      "source": [
        "print(classification_report(y_test,binarypredictions))"
      ],
      "execution_count": 88,
      "outputs": [
        {
          "output_type": "stream",
          "text": [
            "              precision    recall  f1-score   support\n",
            "\n",
            "           0       0.97      0.93      0.95       184\n",
            "           1       0.99      1.00      0.99      1209\n",
            "\n",
            "    accuracy                           0.99      1393\n",
            "   macro avg       0.98      0.96      0.97      1393\n",
            "weighted avg       0.99      0.99      0.99      1393\n",
            "\n"
          ],
          "name": "stdout"
        }
      ]
    },
    {
      "cell_type": "markdown",
      "metadata": {
        "id": "Xx2USVwTU5z6"
      },
      "source": [
        "99% accuracy is amazing"
      ]
    },
    {
      "cell_type": "code",
      "metadata": {
        "colab": {
          "base_uri": "https://localhost:8080/"
        },
        "id": "kw4ITZUlU5Fn",
        "outputId": "7e1a0b91-5635-4492-99bc-286b1659cd0d"
      },
      "source": [
        "print (confusion_matrix(y_test,binarypredictions))"
      ],
      "execution_count": 89,
      "outputs": [
        {
          "output_type": "stream",
          "text": [
            "[[ 171   13]\n",
            " [   5 1204]]\n"
          ],
          "name": "stdout"
        }
      ]
    },
    {
      "cell_type": "markdown",
      "metadata": {
        "id": "uVUb8V5IVG_I"
      },
      "source": [
        "As expected the false positives are bit more due to the unbalanced data"
      ]
    },
    {
      "cell_type": "code",
      "metadata": {
        "id": "U2dBAaAbpYkA"
      },
      "source": [
        ""
      ],
      "execution_count": null,
      "outputs": []
    }
  ]
}